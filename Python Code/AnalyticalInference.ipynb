{
 "cells": [
  {
   "cell_type": "code",
   "execution_count": 18,
   "metadata": {},
   "outputs": [
    {
     "data": {
      "image/png": "[encoded data removed]",
      "text/plain": [
       "<Figure size 1200x600 with 2 Axes>"
      ]
     },
     "metadata": {},
     "output_type": "display_data"
    },
    {
     "name": "stdout",
     "output_type": "stream",
     "text": [
      "Estimated Mean: [23.046875   23.07161458]\n",
      "Estimated Covariance Matrix:\n",
      "[[19.57899004  5.21232096]\n",
      " [ 5.21232096 20.78078885]]\n"
     ]
    }
   ],
   "source": [
    "import numpy as np\n",
    "import matplotlib.pyplot as plt\n",
    "from matplotlib.patches import Ellipse\n",
    "from scipy.ndimage import gaussian_filter\n",
    "import os\n",
    "\n",
    "def generate_gaussian_image(size, mean, cov):\n",
    "    \"\"\"Generate a 2D Gaussian image with noise.\"\"\"\n",
    "    num_pixels = size[0] * size[1]\n",
    "    x = np.random.multivariate_normal(mean, cov, num_pixels)\n",
    "    x = np.clip(x, 0, size[0] - 1).astype(int)\n",
    "    image = np.zeros(size, dtype=np.float32)\n",
    "    for i in range(num_pixels):\n",
    "        image[x[i, 1], x[i, 0]] += 1\n",
    "    return image\n",
    "\n",
    "def generate_ideal_gaussian_image(size, mean, cov):\n",
    "    \"\"\"Generate a 2D Gaussian image without noise based on the mean and covariance.\"\"\"\n",
    "    x, y = np.meshgrid(np.arange(size[0]), np.arange(size[1]))\n",
    "    xy = np.column_stack([x.ravel(), y.ravel()])\n",
    "    \n",
    "    inv_cov = np.linalg.inv(cov)\n",
    "    diff = xy - mean\n",
    "    z = np.exp(-0.5 * np.sum(diff @ inv_cov * diff, axis=1))\n",
    "    z = z.reshape(size)\n",
    "    z /= z.max()  # Normalize to the range [0, 1]\n",
    "    \n",
    "    return z\n",
    "\n",
    "def estimate_gaussian_parameters(data, weights):\n",
    "    \"\"\"Estimate the mean and covariance matrix of 2D Gaussian data with weights.\"\"\"\n",
    "\n",
    "    sigma = 1.0  # Standard deviation for Gaussian kernel\n",
    "    smoothed_data = gaussian_filter(data, sigma=sigma)\n",
    "\n",
    "    mean = np.average(smoothed_data, axis=0, weights=weights)\n",
    "    \n",
    "    diff = data - mean\n",
    "    covariance_matrix = np.cov(diff.T, aweights=weights, bias=True)\n",
    "    \n",
    "    return mean, covariance_matrix\n",
    "\n",
    "def plot_covariance_ellipse(mean, cov, ax, color='blue', label=None):\n",
    "    \"\"\"Plot an ellipse representing the covariance matrix.\"\"\"\n",
    "    eigenvalues, eigenvectors = np.linalg.eigh(cov)\n",
    "    order = eigenvalues.argsort()[::-1]\n",
    "    eigenvalues, eigenvectors = eigenvalues[order], eigenvectors[:, order]\n",
    "    \n",
    "    # Compute the angle of the ellipse\n",
    "    angle = np.degrees(np.arctan2(*eigenvectors[:, 0][::-1]))\n",
    "    \n",
    "    # Compute the width and height of the ellipse\n",
    "    width, height = 2 * np.sqrt(eigenvalues)\n",
    "    \n",
    "    # Create and add the ellipse patch\n",
    "    ellipse = Ellipse(xy=mean, width=width, height=height, angle=angle, color=color, alpha=0.5)\n",
    "    ax.add_patch(ellipse)\n",
    "    \n",
    "    if label:\n",
    "        ax.legend([ellipse], [label])\n",
    "\n",
    "size = (48, 48)\n",
    "mean = np.array([24, 24]) \n",
    "cov = np.array([[20, 5], [5, 20]]) \n",
    "\n",
    "image = generate_gaussian_image(size, mean, cov)\n",
    "\n",
    "y_coords, x_coords = np.indices(size)\n",
    "data = np.vstack((x_coords.ravel(), y_coords.ravel())).T\n",
    "weights = image.ravel()\n",
    "\n",
    "estimated_mean, estimated_covariance_matrix = estimate_gaussian_parameters(data, weights)\n",
    "ideal_image = generate_ideal_gaussian_image(size, estimated_mean, estimated_covariance_matrix)\n",
    "\n",
    "# Plotting the results\n",
    "plt.figure(figsize=(12, 6))\n",
    "\n",
    "plt.subplot(1, 2, 1)\n",
    "plt.imshow(image, cmap='gray', origin='upper')\n",
    "plt.title('Original Generated Gaussian Image')\n",
    "plt.axis('off')\n",
    "\n",
    "plt.subplot(1, 2, 2)\n",
    "plt.imshow(ideal_image, cmap='gray', origin='upper')\n",
    "plt.title('Predicted Parameters')\n",
    "plt.axis('off')\n",
    "\n",
    "plt.tight_layout()\n",
    "plt.show()\n",
    "\n",
    "print(\"Estimated Mean:\", estimated_mean)\n",
    "print(\"Estimated Covariance Matrix:\")\n",
    "print(estimated_covariance_matrix)"
   ]
  }
 ],
 "metadata": {
  "kernelspec": {
   "display_name": "Python 3",
   "language": "python",
   "name": "python3"
  },
  "language_info": {
   "codemirror_mode": {
    "name": "ipython",
    "version": 3
   },
   "file_extension": ".py",
   "mimetype": "text/x-python",
   "name": "python",
   "nbconvert_exporter": "python",
   "pygments_lexer": "ipython3",
   "version": "3.10.12"
  }
 },
 "nbformat": 4,
 "nbformat_minor": 2
}
