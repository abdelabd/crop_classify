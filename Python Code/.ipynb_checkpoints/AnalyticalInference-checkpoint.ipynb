{
 "cells": [
  {
   "cell_type": "code",
   "execution_count": 21,
   "metadata": {},
   "outputs": [
    {
     "name": "stdout",
     "output_type": "stream",
     "text": [
      "Collecting imageio\n",
      "  Downloading imageio-2.35.1-py3-none-any.whl.metadata (4.9 kB)\n",
      "Requirement already satisfied: numpy in /home/rff224/miniforge3/envs/POSE_SpikeGadget/lib/python3.8/site-packages (from imageio) (1.22.3)\n",
      "Requirement already satisfied: pillow>=8.3.2 in /home/rff224/miniforge3/envs/POSE_SpikeGadget/lib/python3.8/site-packages (from imageio) (10.4.0)\n",
      "Downloading imageio-2.35.1-py3-none-any.whl (315 kB)\n",
      "Installing collected packages: imageio\n",
      "Successfully installed imageio-2.35.1\n",
      "Note: you may need to restart the kernel to use updated packages.\n"
     ]
    }
   ],
   "source": [
    "pip install imageio"
   ]
  },
  {
   "cell_type": "code",
   "execution_count": 51,
   "metadata": {},
   "outputs": [
    {
     "data": {
      "image/png": "[encoded data removed]",
      "text/plain": [
       "<Figure size 1296x432 with 2 Axes>"
      ]
     },
     "metadata": {
      "needs_background": "light"
     },
     "output_type": "display_data"
    },
    {
     "name": "stdout",
     "output_type": "stream",
     "text": [
      "Original Gaussian Parameters:\n",
      "Mean: [24 24]\n",
      "Covariance Matrix:\n",
      "[[20  5]\n",
      " [ 5 20]]\n",
      "Covariance x-x: 20\n",
      "Covariance x-y: 5\n",
      "Covariance y-y: 20\n",
      "Angle (degrees): 45.0\n",
      "\n",
      "Estimated Gaussian Parameters:\n",
      "Mean: [23.39626736 23.43706597]\n",
      "Covariance Matrix:\n",
      "[[19.08038537  4.81465224]\n",
      " [ 4.81465224 20.3068032 ]]\n",
      "Covariance x-x: 19.08038537296248\n",
      "Covariance x-y: 20.30680319703655\n",
      "Covariance y-y: 20.30680319703655\n",
      "Angle (degrees): 48.62914427627631\n"
     ]
    },
    {
     "data": {
      "image/png": "[encoded data removed]",
      "text/plain": [
       "<Figure size 432x288 with 1 Axes>"
      ]
     },
     "metadata": {
      "needs_background": "light"
     },
     "output_type": "display_data"
    }
   ],
   "source": [
    "import numpy as np\n",
    "import matplotlib.pyplot as plt\n",
    "from PIL import Image\n",
    "from matplotlib.patches import Ellipse\n",
    "from scipy.ndimage import gaussian_filter\n",
    "import os\n",
    "\n",
    "def generate_gaussian_image(size, mean, cov):\n",
    "    num_pixels = size[0] * size[1]\n",
    "    x = np.random.multivariate_normal(mean, cov, num_pixels)\n",
    "    x = np.clip(x, 0, size[0] - 1).astype(int)\n",
    "    image = np.zeros(size, dtype=np.float32)\n",
    "    for i in range(num_pixels):\n",
    "        image[x[i, 1], x[i, 0]] += 1\n",
    "    return image\n",
    "\n",
    "def generate_ideal_gaussian_image(size, mean, cov):\n",
    "    x, y = np.meshgrid(np.arange(size[0]), np.arange(size[1]))\n",
    "    xy = np.column_stack([x.ravel(), y.ravel()])\n",
    "    \n",
    "    inv_cov = np.linalg.inv(cov)\n",
    "    diff = xy - mean\n",
    "    z = np.exp(-0.5 * np.sum(diff @ inv_cov * diff, axis=1))\n",
    "    z = z.reshape(size)\n",
    "    z /= z.max() \n",
    "    \n",
    "    return z\n",
    "\n",
    "# No smoothing\n",
    "def estimate_gaussian_parameters(data, weights):\n",
    "    mean = np.average(data, axis=0, weights=weights)\n",
    "    \n",
    "    diff = data - mean\n",
    "    covariance_matrix = np.cov(diff.T, aweights=weights, bias=True)\n",
    "    \n",
    "    return mean, covariance_matrix\n",
    "\n",
    "# def estimate_gaussian_parameters(data, weights):\n",
    "#     sigma = 1.0\n",
    "#     smoothed_data = gaussian_filter(data, sigma=sigma)\n",
    "\n",
    "#     mean = np.average(smoothed_data, axis=0, weights=weights)\n",
    "    \n",
    "#     diff = data - mean\n",
    "#     covariance_matrix = np.cov(diff.T, aweights=weights, bias=True)\n",
    "    \n",
    "#     return mean, covariance_matrix, smoothed_data\n",
    "\n",
    "def plot_covariance_ellipse(mean, cov, ax, color='blue', label=None):\n",
    "    eigenvalues, eigenvectors = np.linalg.eigh(cov)\n",
    "    order = eigenvalues.argsort()[::-1]\n",
    "    eigenvalues, eigenvectors = eigenvalues[order], eigenvectors[:, order]\n",
    "    \n",
    "    # Compute the angle of the ellipse\n",
    "    angle = np.degrees(np.arctan2(*eigenvectors[:, 0][::-1]))\n",
    "    \n",
    "    # Compute the width and height of the ellipse\n",
    "    width, height = 2 * np.sqrt(eigenvalues)\n",
    "    \n",
    "    # Create and add the ellipse patch\n",
    "    ellipse = Ellipse(xy=mean, width=width, height=height, angle=angle, color=color, alpha=0.5)\n",
    "    ax.add_patch(ellipse)\n",
    "    \n",
    "    if label:\n",
    "        ax.legend([ellipse], [label])\n",
    "    \n",
    "    return mean, cov, angle\n",
    "\n",
    "size = (48, 48)\n",
    "mean = np.array([24, 24]) \n",
    "cov = np.array([[20, 5], [5, 20]]) \n",
    "\n",
    "image = generate_gaussian_image(size, mean, cov)\n",
    "\n",
    "y_coords, x_coords = np.indices(size)\n",
    "data = np.vstack((x_coords.ravel(), y_coords.ravel())).T\n",
    "weights = image.ravel()\n",
    "\n",
    "estimated_mean, estimated_covariance_matrix = estimate_gaussian_parameters(data, weights)\n",
    "# estimated_mean, estimated_covariance_matrix, smoothed_data = estimate_gaussian_parameters(data, weights)\n",
    "ideal_image = generate_ideal_gaussian_image(size, estimated_mean, estimated_covariance_matrix)\n",
    "\n",
    "# Save the generated gaussian\n",
    "np.savetxt('../C Code/generated_gaussian_image.dat', image, delimiter=' ', fmt='%d')\n",
    "\n",
    "plt.figure(figsize=(18, 6))\n",
    "\n",
    "plt.subplot(1, 2, 1)\n",
    "plt.imshow(image, cmap='gray', origin='upper')\n",
    "plt.title('Original Generated Gaussian Image')\n",
    "plt.axis('off')\n",
    "\n",
    "plt.subplot(1, 2, 2)\n",
    "plt.imshow(ideal_image, cmap='gray', origin='upper')\n",
    "plt.title('Predicted Parameters')\n",
    "plt.axis('off')\n",
    "\n",
    "plt.tight_layout()\n",
    "plt.show()\n",
    "\n",
    "mean_x, cov_x, angle_x = plot_covariance_ellipse(mean, cov, plt.gca(), color='red', label='Original Gaussian')\n",
    "cov_x_x, cov_x_y = cov[0, 0], cov[0, 1]\n",
    "cov_y_y = cov[1, 1]\n",
    "\n",
    "print(\"Original Gaussian Parameters:\")\n",
    "print(\"Mean:\", mean_x)\n",
    "print(\"Covariance Matrix:\")\n",
    "print(cov)\n",
    "print(\"Covariance x-x:\", cov_x_x)\n",
    "print(\"Covariance x-y:\", cov_x_y)\n",
    "print(\"Covariance y-y:\", cov_y_y)\n",
    "print(\"Angle (degrees):\", angle_x)\n",
    "\n",
    "mean_y, cov_y, angle_y = plot_covariance_ellipse(estimated_mean, estimated_covariance_matrix, plt.gca(), color='blue', label='Estimated Gaussian')\n",
    "cov_y_x, cov_y_y = estimated_covariance_matrix[0, 0], estimated_covariance_matrix[0, 1]\n",
    "cov_y_y = estimated_covariance_matrix[1, 1]\n",
    "\n",
    "print(\"\\nEstimated Gaussian Parameters:\")\n",
    "print(\"Mean:\", mean_y)\n",
    "print(\"Covariance Matrix:\")\n",
    "print(cov_y)\n",
    "print(\"Covariance x-x:\", cov_y_x)\n",
    "print(\"Covariance x-y:\", cov_y_y)\n",
    "print(\"Covariance y-y:\", cov_y_y)\n",
    "print(\"Angle (degrees):\", angle_y)\n"
   ]
  },
  {
   "cell_type": "markdown",
   "metadata": {},
   "source": [
    "## Retreive C++ calculated values"
   ]
  },
  {
   "cell_type": "markdown",
   "metadata": {},
   "source": [
    "### **Be sure to run ``c_conversion`` in ```/C Code``` first**"
   ]
  },
  {
   "cell_type": "code",
   "execution_count": 50,
   "metadata": {},
   "outputs": [
    {
     "name": "stdout",
     "output_type": "stream",
     "text": [
      "C Estimated Gaussian Parameters:\n",
      "Mean: [23.436632, 23.280816]\n",
      "Covariance Matrix:\n",
      "[[19.607964, 4.458550]\n",
      " [4.458550, 20.451958]]\n"
     ]
    }
   ],
   "source": [
    "\n",
    "import pandas as pd\n",
    "\n",
    "df = pd.read_csv('../C Code/estimated_parameters.csv')\n",
    "\n",
    "mean_x = df['Mean_x'].values[0]\n",
    "mean_y = df['Mean_y'].values[0]\n",
    "cov_00 = df['Cov_00'].values[0]\n",
    "cov_11 = df['Cov_11'].values[0]\n",
    "cov_01 = df['Cov_01'].values[0]\n",
    "\n",
    "print(\"C Estimated Gaussian Parameters:\")\n",
    "print(f\"Mean: [{mean_x:.6f}, {mean_y:.6f}]\")\n",
    "print(\"Covariance Matrix:\")\n",
    "print(f\"[[{cov_00:.6f}, {cov_01:.6f}]\\n [{cov_01:.6f}, {cov_11:.6f}]]\")\n"
   ]
  },
  {
   "cell_type": "code",
   "execution_count": null,
   "metadata": {},
   "outputs": [],
   "source": []
  }
 ],
 "metadata": {
  "kernelspec": {
   "display_name": "POSE_SpikeGadget",
   "language": "python",
   "name": "pose_spikegadget"
  },
  "language_info": {
   "codemirror_mode": {
    "name": "ipython",
    "version": 3
   },
   "file_extension": ".py",
   "mimetype": "text/x-python",
   "name": "python",
   "nbconvert_exporter": "python",
   "pygments_lexer": "ipython3",
   "version": "3.8.13"
  }
 },
 "nbformat": 4,
 "nbformat_minor": 4
}
