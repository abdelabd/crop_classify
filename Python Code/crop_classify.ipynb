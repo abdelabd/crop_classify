{
 "cells": [
  {
   "cell_type": "code",
   "execution_count": 3,
   "metadata": {},
   "outputs": [],
   "source": [
    "# import tensorflow as tf\n",
    "\n",
    "# class DifferentiableCropLayer(tf.keras.layers.Layer):\n",
    "#     def __init__(self, target_size=(15, 15)):\n",
    "#         super(DifferentiableCropLayer, self).__init__()\n",
    "#         self.target_size = target_size\n",
    "    \n",
    "#     def call(self, images):\n",
    "#         # Assuming the input images are grayscale and normalized [0, 1]\n",
    "#         def crop_and_resize(image):\n",
    "#             # Create a mask where the pixels are non-zero\n",
    "#             mask = tf.cast(image > 0.1, tf.float32)\n",
    "            \n",
    "#             # Calculate the bounding box\n",
    "#             x_proj = tf.reduce_sum(mask, axis=0)\n",
    "#             y_proj = tf.reduce_sum(mask, axis=1)\n",
    "            \n",
    "#             x_nonzero = tf.where(x_proj > 0)\n",
    "#             y_nonzero = tf.where(y_proj > 0)\n",
    "            \n",
    "#             x_min = tf.reduce_min(x_nonzero)\n",
    "#             x_max = tf.reduce_max(x_nonzero)\n",
    "#             y_min = tf.reduce_min(y_nonzero)\n",
    "#             y_max = tf.reduce_max(y_nonzero)\n",
    "            \n",
    "#             # Crop the image using the bounding box, considering tensor shape\n",
    "#             cropped_image = tf.image.crop_to_bounding_box(image,\n",
    "#                                                           offset_height=y_min,\n",
    "#                                                           offset_width=x_min,\n",
    "#                                                           target_height=y_max - y_min + 1,\n",
    "#                                                           target_width=x_max - x_min + 1)\n",
    "#             # Resize to target size\n",
    "#             resized_image = tf.image.resize(cropped_image, self.target_size, method='bilinear')\n",
    "#             return resized_image\n",
    "        \n",
    "#         # Apply the crop_and_resize to each image in the batch\n",
    "#         cropped_resized_images = tf.map_fn(crop_and_resize, images, dtype=tf.float32)\n",
    "#         return cropped_resized_images\n"
   ]
  },
  {
   "cell_type": "code",
   "execution_count": 1,
   "metadata": {},
   "outputs": [
    {
     "name": "stderr",
     "output_type": "stream",
     "text": [
      "2024-08-01 17:53:09.327259: E external/local_xla/xla/stream_executor/cuda/cuda_fft.cc:485] Unable to register cuFFT factory: Attempting to register factory for plugin cuFFT when one has already been registered\n",
      "2024-08-01 17:53:09.340831: E external/local_xla/xla/stream_executor/cuda/cuda_dnn.cc:8454] Unable to register cuDNN factory: Attempting to register factory for plugin cuDNN when one has already been registered\n",
      "2024-08-01 17:53:09.347252: E external/local_xla/xla/stream_executor/cuda/cuda_blas.cc:1452] Unable to register cuBLAS factory: Attempting to register factory for plugin cuBLAS when one has already been registered\n",
      "2024-08-01 17:53:09.368929: I tensorflow/core/platform/cpu_feature_guard.cc:210] This TensorFlow binary is optimized to use available CPU instructions in performance-critical operations.\n",
      "To enable the following instructions: AVX2 FMA, in other operations, rebuild TensorFlow with the appropriate compiler flags.\n",
      "2024-08-01 17:53:10.299678: W tensorflow/compiler/tf2tensorrt/utils/py_utils.cc:38] TF-TRT Warning: Could not find TensorRT\n"
     ]
    }
   ],
   "source": [
    "import matplotlib.pyplot as plt\n",
    "import numpy as np\n",
    "import tensorflow as tf\n",
    "from tensorflow.keras.datasets import mnist"
   ]
  },
  {
   "cell_type": "code",
   "execution_count": 2,
   "metadata": {},
   "outputs": [],
   "source": [
    "import os\n",
    "os.environ[\"CUDA_VISIBLE_DEVICES\"] = \"-1\"  # This disables GPU usage in TensorFlow"
   ]
  },
  {
   "cell_type": "code",
   "execution_count": 3,
   "metadata": {},
   "outputs": [
    {
     "name": "stderr",
     "output_type": "stream",
     "text": [
      "2024-08-01 17:53:13.162915: E external/local_xla/xla/stream_executor/cuda/cuda_driver.cc:266] failed call to cuInit: CUDA_ERROR_NO_DEVICE: no CUDA-capable device is detected\n",
      "2024-08-01 17:53:13.162980: I external/local_xla/xla/stream_executor/cuda/cuda_diagnostics.cc:135] retrieving CUDA diagnostic information for host: shenron.urcf.drexel.edu\n",
      "2024-08-01 17:53:13.162988: I external/local_xla/xla/stream_executor/cuda/cuda_diagnostics.cc:142] hostname: shenron.urcf.drexel.edu\n",
      "2024-08-01 17:53:13.163122: I external/local_xla/xla/stream_executor/cuda/cuda_diagnostics.cc:166] libcuda reported version is: 550.90.7\n",
      "2024-08-01 17:53:13.163170: I external/local_xla/xla/stream_executor/cuda/cuda_diagnostics.cc:170] kernel reported version is: 550.90.7\n",
      "2024-08-01 17:53:13.163175: I external/local_xla/xla/stream_executor/cuda/cuda_diagnostics.cc:249] kernel version seems to match DSO: 550.90.7\n"
     ]
    }
   ],
   "source": [
    "gpus = tf.config.experimental.list_physical_devices('GPU')\n",
    "if gpus:\n",
    "    try:\n",
    "        for gpu in gpus:\n",
    "            tf.config.experimental.set_memory_growth(gpu, True)\n",
    "    except RuntimeError as e:\n",
    "        print(e)  # Memory growth must be set before GPUs have been initialized\n"
   ]
  },
  {
   "cell_type": "code",
   "execution_count": 4,
   "metadata": {},
   "outputs": [
    {
     "name": "stdout",
     "output_type": "stream",
     "text": [
      "Num GPUs Available:  0\n"
     ]
    }
   ],
   "source": [
    "import tensorflow as tf\n",
    "print(\"Num GPUs Available: \", len(tf.config.list_physical_devices('GPU')))\n"
   ]
  },
  {
   "cell_type": "code",
   "execution_count": 5,
   "metadata": {},
   "outputs": [],
   "source": [
    "def create_dataset():\n",
    "    (train_images, train_labels), (test_images, test_labels) = mnist.load_data()\n",
    "\n",
    "    # Normalizing and resizing MNIST digits to be placed in a 256x256 image\n",
    "    def place_digit(image):\n",
    "        size = 256\n",
    "        placement = np.zeros((size, size), dtype=np.float32)\n",
    "        x_offset = np.random.randint(0, size - 28)\n",
    "        y_offset = np.random.randint(0, size - 28)\n",
    "        placement[y_offset:y_offset+28, x_offset:x_offset+28] = image\n",
    "        return placement, [x_offset / size, y_offset / size, (x_offset + 28) / size, (y_offset + 28) / size]\n",
    "\n",
    "    # Applying the function and separating results\n",
    "    train_results = [place_digit(img) for img in train_images]\n",
    "    test_results = [place_digit(img) for img in test_images]\n",
    "\n",
    "    # Normalize and reshape images\n",
    "    train_images = np.array([res[0] for res in train_results]) / 255.0\n",
    "    train_bboxes = np.array([res[1] for res in train_results])\n",
    "    test_images = np.array([res[0] for res in test_results]) / 255.0\n",
    "    test_bboxes = np.array([res[1] for res in test_results])\n",
    "\n",
    "    # Expand dimensions to include channel information\n",
    "    train_images = np.expand_dims(train_images, axis=-1)\n",
    "    test_images = np.expand_dims(test_images, axis=-1)\n",
    "\n",
    "    return (train_images, train_bboxes, train_labels), (test_images, test_bboxes, test_labels)\n",
    "\n",
    "(train_images, train_bboxes, train_labels), (test_images, test_bboxes, test_labels) = create_dataset()\n"
   ]
  },
  {
   "cell_type": "code",
   "execution_count": 6,
   "metadata": {},
   "outputs": [
    {
     "data": {
      "text/plain": [
       "<matplotlib.image.AxesImage at 0x7f1ccd606910>"
      ]
     },
     "execution_count": 6,
     "metadata": {},
     "output_type": "execute_result"
    },
    {
     "data": {
      "image/png": "[encoded data removed]",
      "text/plain": [
       "<Figure size 640x480 with 1 Axes>"
      ]
     },
     "metadata": {},
     "output_type": "display_data"
    }
   ],
   "source": [
    "plt.imshow(train_images[0])"
   ]
  },
  {
   "cell_type": "code",
   "execution_count": 36,
   "metadata": {},
   "outputs": [],
   "source": [
    "class CropLayer(tf.keras.layers.Layer):\n",
    "    def __init__(self, target_size=(28, 28), padding_mode='CONSTANT'):\n",
    "        super().__init__()\n",
    "        self.target_size = target_size\n",
    "        self.padding_mode = padding_mode\n",
    "\n",
    "    def build(self, input_shape):\n",
    "        # This function can help manage dimensions better and is a good place to initialize weights if needed\n",
    "        super().build(input_shape)\n",
    "\n",
    "    def call(self, inputs):\n",
    "        images, coords = inputs\n",
    "        shape = tf.cast(tf.shape(images), tf.float32)\n",
    "        center_x, center_y, width, height = tf.split(coords, 4, axis=1)\n",
    "        half_width = width * shape[2] / 2\n",
    "        half_height = height * shape[1] / 2\n",
    "\n",
    "        x_min = tf.cast(center_x * shape[2] - half_width, tf.int32)\n",
    "        y_min = tf.cast(center_y * shape[1] - half_height, tf.int32)\n",
    "        x_max = tf.cast(center_x * shape[2] + half_width, tf.int32)\n",
    "        y_max = tf.cast(center_y * shape[1] + half_height, tf.int32)\n",
    "\n",
    "        crop_height = tf.maximum(y_max - y_min, 1)\n",
    "        crop_width = tf.maximum(x_max - x_min, 1)\n",
    "\n",
    "        cropped_images = tf.image.crop_to_bounding_box(images, y_min[0], x_min[0], crop_height[0], crop_width[0])\n",
    "        pad_height = tf.maximum(self.target_size[0] - crop_height, 0)\n",
    "        pad_width = tf.maximum(self.target_size[1] - crop_width, 0)\n",
    "        \n",
    "        pad_top = pad_height // 2\n",
    "        pad_bottom = pad_height - pad_top\n",
    "        pad_left = pad_width // 2\n",
    "        pad_right = pad_width - pad_left\n",
    "\n",
    "        padded_images = tf.pad(cropped_images, [[0, 0], [pad_top, pad_bottom], [pad_left, pad_right], [0, 0]], mode=self.padding_mode)\n",
    "        return padded_images\n",
    "\n",
    "    def compute_output_shape(self, input_shape):\n",
    "        # Ensure the output shape is correctly defined based on the target size, assuming the last dimension remains unchanged\n",
    "        return (input_shape[0][0], *self.target_size, input_shape[0][-1])\n",
    "\n",
    "\n",
    "\n",
    "# Usage Example\n",
    "# Assuming 'model_input' and 'bbox_coords' are your input images and bounding box coordinates\n",
    "# crop_layer = CropLayer(target_size=(28, 28))\n",
    "# cropped_and_padded_images = crop_layer([model_input, bbox_coords])\n",
    "\n",
    "\n",
    "\n",
    "def create_model():\n",
    "    input_layer = Input(shape=(256, 256, 1))\n",
    "    \n",
    "    # Base convolutional layers\n",
    "    x = Conv2D(32, (3, 3), activation='relu', padding='same')(input_layer)\n",
    "    x = MaxPooling2D((2, 2))(x)\n",
    "    x = Conv2D(64, (3, 3), activation='relu', padding='same')(x)\n",
    "    x = MaxPooling2D((2, 2))(x)\n",
    "    x = Conv2D(128, (3, 3), activation='relu', padding='same')(x)\n",
    "    x = MaxPooling2D((2, 2))(x)\n",
    "    x = Flatten()(x)\n",
    "    \n",
    "    # Localization branch predicts coordinates for cropping\n",
    "    localization = Dense(128, activation='relu')(x)\n",
    "    coords = Dense(4, activation='sigmoid', name='localization_output')(localization)  # Named output for localization\n",
    "    \n",
    "    # Cropping layer\n",
    "    crop_layer = CropLayer()(inputs=[input_layer, coords])\n",
    "    \n",
    "    # Classification branch\n",
    "    classification_input = Flatten()(crop_layer)\n",
    "    classification = Dense(128, activation='relu')(classification_input)\n",
    "    classification = Dropout(0.5)(classification)\n",
    "    classification_output = Dense(10, activation='softmax', name='classification_output')(classification)  # Named output for classification\n",
    "    \n",
    "    # Construct the full model\n",
    "    model = Model(inputs=input_layer, outputs=[coords, classification_output])\n",
    "    \n",
    "    return model\n",
    "\n",
    "model = create_model()\n",
    "\n"
   ]
  },
  {
   "cell_type": "code",
   "execution_count": 37,
   "metadata": {},
   "outputs": [],
   "source": [
    "model.compile(\n",
    "    optimizer='adam',\n",
    "    loss={\n",
    "        'localization_output': 'mean_squared_error',  # Corrected to the actual output layer name\n",
    "        'classification_output': 'sparse_categorical_crossentropy'  # Corrected to the actual output layer name\n",
    "    },\n",
    "    loss_weights={\n",
    "        'localization_output': 1.0,  # Ensure the weight matches the importance of the task\n",
    "        'classification_output': 1.0  # Ensure the weight matches the importance of the task\n",
    "    },\n",
    "    metrics={\n",
    "        'localization_output': ['mae'],  # Metrics for the localization output\n",
    "        'classification_output': ['accuracy']  # Metrics for the classification output\n",
    "    }\n",
    ")"
   ]
  },
  {
   "cell_type": "code",
   "execution_count": 38,
   "metadata": {},
   "outputs": [
    {
     "name": "stdout",
     "output_type": "stream",
     "text": [
      "Epoch 1/10\n"
     ]
    },
    {
     "ename": "ValueError",
     "evalue": "Exception encountered when calling CropLayer.call().\n\n\u001b[1mShapes must be equal rank, but are 1 and 0\n\tFrom merging shape 2 with other shapes. for '{{node functional_6_1/crop_layer_13_1/crop_to_bounding_box/stack_2}} = Pack[N=4, T=DT_INT32, axis=0](functional_6_1/crop_layer_13_1/crop_to_bounding_box/stack_2/values_0, functional_6_1/crop_layer_13_1/strided_slice_6, functional_6_1/crop_layer_13_1/strided_slice_7, functional_6_1/crop_layer_13_1/crop_to_bounding_box/stack_2/values_3)' with input shapes: [], [1], [1], [].\u001b[0m\n\nArguments received by CropLayer.call():\n  • inputs=['tf.Tensor(shape=(32, 256, 256, 1), dtype=float32)', 'tf.Tensor(shape=(32, 4), dtype=float32)']",
     "output_type": "error",
     "traceback": [
      "\u001b[0;31m---------------------------------------------------------------------------\u001b[0m",
      "\u001b[0;31mValueError\u001b[0m                                Traceback (most recent call last)",
      "Cell \u001b[0;32mIn[38], line 1\u001b[0m\n\u001b[0;32m----> 1\u001b[0m history \u001b[38;5;241m=\u001b[39m \u001b[43mmodel\u001b[49m\u001b[38;5;241;43m.\u001b[39;49m\u001b[43mfit\u001b[49m\u001b[43m(\u001b[49m\n\u001b[1;32m      2\u001b[0m \u001b[43m    \u001b[49m\u001b[43mtrain_images\u001b[49m\u001b[43m,\u001b[49m\u001b[43m \u001b[49m\n\u001b[1;32m      3\u001b[0m \u001b[43m    \u001b[49m\u001b[43m{\u001b[49m\n\u001b[1;32m      4\u001b[0m \u001b[43m        \u001b[49m\u001b[38;5;124;43m'\u001b[39;49m\u001b[38;5;124;43mlocalization_output\u001b[39;49m\u001b[38;5;124;43m'\u001b[39;49m\u001b[43m:\u001b[49m\u001b[43m \u001b[49m\u001b[43mtrain_bboxes\u001b[49m\u001b[43m,\u001b[49m\u001b[43m \u001b[49m\n\u001b[1;32m      5\u001b[0m \u001b[43m        \u001b[49m\u001b[38;5;124;43m'\u001b[39;49m\u001b[38;5;124;43mclassification_output\u001b[39;49m\u001b[38;5;124;43m'\u001b[39;49m\u001b[43m:\u001b[49m\u001b[43m \u001b[49m\u001b[43mtrain_labels\u001b[49m\n\u001b[1;32m      6\u001b[0m \u001b[43m    \u001b[49m\u001b[43m}\u001b[49m\u001b[43m,\u001b[49m\n\u001b[1;32m      7\u001b[0m \u001b[43m    \u001b[49m\u001b[43mvalidation_data\u001b[49m\u001b[38;5;241;43m=\u001b[39;49m\u001b[43m(\u001b[49m\n\u001b[1;32m      8\u001b[0m \u001b[43m        \u001b[49m\u001b[43mtest_images\u001b[49m\u001b[43m,\u001b[49m\u001b[43m \u001b[49m\n\u001b[1;32m      9\u001b[0m \u001b[43m        \u001b[49m\u001b[43m{\u001b[49m\n\u001b[1;32m     10\u001b[0m \u001b[43m            \u001b[49m\u001b[38;5;124;43m'\u001b[39;49m\u001b[38;5;124;43mlocalization_output\u001b[39;49m\u001b[38;5;124;43m'\u001b[39;49m\u001b[43m:\u001b[49m\u001b[43m \u001b[49m\u001b[43mtest_bboxes\u001b[49m\u001b[43m,\u001b[49m\u001b[43m \u001b[49m\n\u001b[1;32m     11\u001b[0m \u001b[43m            \u001b[49m\u001b[38;5;124;43m'\u001b[39;49m\u001b[38;5;124;43mclassification_output\u001b[39;49m\u001b[38;5;124;43m'\u001b[39;49m\u001b[43m:\u001b[49m\u001b[43m \u001b[49m\u001b[43mtest_labels\u001b[49m\n\u001b[1;32m     12\u001b[0m \u001b[43m        \u001b[49m\u001b[43m}\u001b[49m\n\u001b[1;32m     13\u001b[0m \u001b[43m    \u001b[49m\u001b[43m)\u001b[49m\u001b[43m,\u001b[49m\n\u001b[1;32m     14\u001b[0m \u001b[43m    \u001b[49m\u001b[43mepochs\u001b[49m\u001b[38;5;241;43m=\u001b[39;49m\u001b[38;5;241;43m10\u001b[39;49m\u001b[43m,\u001b[49m\n\u001b[1;32m     15\u001b[0m \u001b[43m    \u001b[49m\u001b[43mbatch_size\u001b[49m\u001b[38;5;241;43m=\u001b[39;49m\u001b[38;5;241;43m32\u001b[39;49m\n\u001b[1;32m     16\u001b[0m \u001b[43m)\u001b[49m\n",
      "File \u001b[0;32m~/miniconda3/envs/tensorflow/lib/python3.11/site-packages/keras/src/utils/traceback_utils.py:122\u001b[0m, in \u001b[0;36mfilter_traceback.<locals>.error_handler\u001b[0;34m(*args, **kwargs)\u001b[0m\n\u001b[1;32m    119\u001b[0m     filtered_tb \u001b[38;5;241m=\u001b[39m _process_traceback_frames(e\u001b[38;5;241m.\u001b[39m__traceback__)\n\u001b[1;32m    120\u001b[0m     \u001b[38;5;66;03m# To get the full stack trace, call:\u001b[39;00m\n\u001b[1;32m    121\u001b[0m     \u001b[38;5;66;03m# `keras.config.disable_traceback_filtering()`\u001b[39;00m\n\u001b[0;32m--> 122\u001b[0m     \u001b[38;5;28;01mraise\u001b[39;00m e\u001b[38;5;241m.\u001b[39mwith_traceback(filtered_tb) \u001b[38;5;28;01mfrom\u001b[39;00m \u001b[38;5;28;01mNone\u001b[39;00m\n\u001b[1;32m    123\u001b[0m \u001b[38;5;28;01mfinally\u001b[39;00m:\n\u001b[1;32m    124\u001b[0m     \u001b[38;5;28;01mdel\u001b[39;00m filtered_tb\n",
      "Cell \u001b[0;32mIn[36], line 26\u001b[0m, in \u001b[0;36mCropLayer.call\u001b[0;34m(self, inputs)\u001b[0m\n\u001b[1;32m     23\u001b[0m crop_height \u001b[38;5;241m=\u001b[39m tf\u001b[38;5;241m.\u001b[39mmaximum(y_max \u001b[38;5;241m-\u001b[39m y_min, \u001b[38;5;241m1\u001b[39m)\n\u001b[1;32m     24\u001b[0m crop_width \u001b[38;5;241m=\u001b[39m tf\u001b[38;5;241m.\u001b[39mmaximum(x_max \u001b[38;5;241m-\u001b[39m x_min, \u001b[38;5;241m1\u001b[39m)\n\u001b[0;32m---> 26\u001b[0m cropped_images \u001b[38;5;241m=\u001b[39m \u001b[43mtf\u001b[49m\u001b[38;5;241;43m.\u001b[39;49m\u001b[43mimage\u001b[49m\u001b[38;5;241;43m.\u001b[39;49m\u001b[43mcrop_to_bounding_box\u001b[49m\u001b[43m(\u001b[49m\u001b[43mimages\u001b[49m\u001b[43m,\u001b[49m\u001b[43m \u001b[49m\u001b[43my_min\u001b[49m\u001b[43m[\u001b[49m\u001b[38;5;241;43m0\u001b[39;49m\u001b[43m]\u001b[49m\u001b[43m,\u001b[49m\u001b[43m \u001b[49m\u001b[43mx_min\u001b[49m\u001b[43m[\u001b[49m\u001b[38;5;241;43m0\u001b[39;49m\u001b[43m]\u001b[49m\u001b[43m,\u001b[49m\u001b[43m \u001b[49m\u001b[43mcrop_height\u001b[49m\u001b[43m[\u001b[49m\u001b[38;5;241;43m0\u001b[39;49m\u001b[43m]\u001b[49m\u001b[43m,\u001b[49m\u001b[43m \u001b[49m\u001b[43mcrop_width\u001b[49m\u001b[43m[\u001b[49m\u001b[38;5;241;43m0\u001b[39;49m\u001b[43m]\u001b[49m\u001b[43m)\u001b[49m\n\u001b[1;32m     27\u001b[0m pad_height \u001b[38;5;241m=\u001b[39m tf\u001b[38;5;241m.\u001b[39mmaximum(\u001b[38;5;28mself\u001b[39m\u001b[38;5;241m.\u001b[39mtarget_size[\u001b[38;5;241m0\u001b[39m] \u001b[38;5;241m-\u001b[39m crop_height, \u001b[38;5;241m0\u001b[39m)\n\u001b[1;32m     28\u001b[0m pad_width \u001b[38;5;241m=\u001b[39m tf\u001b[38;5;241m.\u001b[39mmaximum(\u001b[38;5;28mself\u001b[39m\u001b[38;5;241m.\u001b[39mtarget_size[\u001b[38;5;241m1\u001b[39m] \u001b[38;5;241m-\u001b[39m crop_width, \u001b[38;5;241m0\u001b[39m)\n",
      "\u001b[0;31mValueError\u001b[0m: Exception encountered when calling CropLayer.call().\n\n\u001b[1mShapes must be equal rank, but are 1 and 0\n\tFrom merging shape 2 with other shapes. for '{{node functional_6_1/crop_layer_13_1/crop_to_bounding_box/stack_2}} = Pack[N=4, T=DT_INT32, axis=0](functional_6_1/crop_layer_13_1/crop_to_bounding_box/stack_2/values_0, functional_6_1/crop_layer_13_1/strided_slice_6, functional_6_1/crop_layer_13_1/strided_slice_7, functional_6_1/crop_layer_13_1/crop_to_bounding_box/stack_2/values_3)' with input shapes: [], [1], [1], [].\u001b[0m\n\nArguments received by CropLayer.call():\n  • inputs=['tf.Tensor(shape=(32, 256, 256, 1), dtype=float32)', 'tf.Tensor(shape=(32, 4), dtype=float32)']"
     ]
    }
   ],
   "source": [
    "history = model.fit(\n",
    "    train_images, \n",
    "    {\n",
    "        'localization_output': train_bboxes, \n",
    "        'classification_output': train_labels\n",
    "    },\n",
    "    validation_data=(\n",
    "        test_images, \n",
    "        {\n",
    "            'localization_output': test_bboxes, \n",
    "            'classification_output': test_labels\n",
    "        }\n",
    "    ),\n",
    "    epochs=10,\n",
    "    batch_size=32\n",
    ")\n"
   ]
  },
  {
   "cell_type": "code",
   "execution_count": null,
   "metadata": {},
   "outputs": [],
   "source": []
  }
 ],
 "metadata": {
  "kernelspec": {
   "display_name": "Python 3",
   "language": "python",
   "name": "python3"
  },
  "language_info": {
   "codemirror_mode": {
    "name": "ipython",
    "version": 3
   },
   "file_extension": ".py",
   "mimetype": "text/x-python",
   "name": "python",
   "nbconvert_exporter": "python",
   "pygments_lexer": "ipython3",
   "version": "3.11.9"
  }
 },
 "nbformat": 4,
 "nbformat_minor": 2
}
