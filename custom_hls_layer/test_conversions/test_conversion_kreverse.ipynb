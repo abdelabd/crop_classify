{
 "cells": [
  {
   "cell_type": "markdown",
   "metadata": {},
   "source": [
    "Follows $\\texttt{hls4ml/test/pytest/test\\_extensions.py}$, but without the optimization stuff"
   ]
  },
  {
   "cell_type": "code",
   "execution_count": 1,
   "metadata": {},
   "outputs": [
    {
     "name": "stderr",
     "output_type": "stream",
     "text": [
      "2024-10-10 13:43:50.834149: I tensorflow/core/platform/cpu_feature_guard.cc:193] This TensorFlow binary is optimized with oneAPI Deep Neural Network Library (oneDNN) to use the following CPU instructions in performance-critical operations:  AVX2 AVX_VNNI FMA\n",
      "To enable them in other operations, rebuild TensorFlow with the appropriate compiler flags.\n",
      "2024-10-10 13:43:50.949395: I tensorflow/core/util/port.cc:104] oneDNN custom operations are on. You may see slightly different numerical results due to floating-point round-off errors from different computation orders. To turn them off, set the environment variable `TF_ENABLE_ONEDNN_OPTS=0`.\n",
      "2024-10-10 13:43:50.953763: W tensorflow/compiler/xla/stream_executor/platform/default/dso_loader.cc:64] Could not load dynamic library 'libcudart.so.11.0'; dlerror: libcudart.so.11.0: cannot open shared object file: No such file or directory\n",
      "2024-10-10 13:43:50.953787: I tensorflow/compiler/xla/stream_executor/cuda/cudart_stub.cc:29] Ignore above cudart dlerror if you do not have a GPU set up on your machine.\n",
      "2024-10-10 13:43:51.701238: W tensorflow/compiler/xla/stream_executor/platform/default/dso_loader.cc:64] Could not load dynamic library 'libnvinfer.so.7'; dlerror: libnvinfer.so.7: cannot open shared object file: No such file or directory\n",
      "2024-10-10 13:43:51.701337: W tensorflow/compiler/xla/stream_executor/platform/default/dso_loader.cc:64] Could not load dynamic library 'libnvinfer_plugin.so.7'; dlerror: libnvinfer_plugin.so.7: cannot open shared object file: No such file or directory\n",
      "2024-10-10 13:43:51.701343: W tensorflow/compiler/tf2tensorrt/utils/py_utils.cc:38] TF-TRT Warning: Cannot dlopen some TensorRT libraries. If you would like to use Nvidia GPU with TensorRT, please make sure the missing libraries mentioned above are installed properly.\n"
     ]
    },
    {
     "name": "stdout",
     "output_type": "stream",
     "text": [
      "WARNING: Failed to import handlers from core.py: No module named 'torch'.\n",
      "WARNING: Failed to import handlers from convolution.py: No module named 'torch'.\n",
      "WARNING: Failed to import handlers from pooling.py: No module named 'torch'.\n",
      "WARNING: Failed to import handlers from recurrent.py: No module named 'torch'.\n",
      "WARNING: Failed to import handlers from reshape.py: No module named 'torch'.\n",
      "WARNING: Failed to import handlers from merge.py: No module named 'torch'.\n"
     ]
    },
    {
     "name": "stderr",
     "output_type": "stream",
     "text": [
      "/home/aelabd/RHEED/hls4ml/hls4ml/converters/__init__.py:29: UserWarning: WARNING: Pytorch converter is not enabled!\n",
      "  warnings.warn(\"WARNING: Pytorch converter is not enabled!\", stacklevel=1)\n"
     ]
    }
   ],
   "source": [
    "import os\n",
    "from pathlib import Path\n",
    "\n",
    "import numpy as np\n",
    "import pytest\n",
    "import tensorflow as tf\n",
    "\n",
    "import hls4ml\n",
    "\n",
    "test_root_path = Path(os.getcwd())"
   ]
  },
  {
   "cell_type": "code",
   "execution_count": 2,
   "metadata": {},
   "outputs": [],
   "source": [
    "# Keras implementation of a custom layer\n",
    "class KReverse(tf.keras.layers.Layer):\n",
    "    '''Keras implementation of a hypothetical custom layer'''\n",
    "\n",
    "    def __init__(self):\n",
    "        super().__init__()\n",
    "\n",
    "    def call(self, inputs):\n",
    "        return tf.reverse(inputs, axis=[-1])\n",
    "\n",
    "    def get_config(self):\n",
    "        # Breaks serialization and parsing in hls4ml if not defined\n",
    "        return super().get_config()\n",
    "\n",
    "\n",
    "# hls4ml layer implementation\n",
    "class HReverse(hls4ml.model.layers.Layer):\n",
    "    '''hls4ml implementation of a hypothetical custom layer'''\n",
    "\n",
    "    def initialize(self):\n",
    "        inp = self.get_input_variable()\n",
    "        shape = inp.shape\n",
    "        dims = inp.dim_names\n",
    "        self.add_output_variable(shape, dims)\n",
    "\n",
    "# Parser for converter\n",
    "def parse_reverse_layer(keras_layer, input_names, input_shapes, data_reader):\n",
    "    layer = {}\n",
    "    layer['class_name'] = 'HReverse'\n",
    "    layer['name'] = keras_layer['config']['name']\n",
    "    layer['n_in'] = input_shapes[0][1]\n",
    "\n",
    "    if input_names is not None:\n",
    "        layer['inputs'] = input_names\n",
    "\n",
    "    return layer, [shape for shape in input_shapes[0]]\n",
    "\n",
    "# HLS Templates - No specific pragmas used; generic enough for both Intel and Vivado\n",
    "rev_config_template = \"\"\"struct config{index} : nnet::reverse_config {{\n",
    "    static const unsigned n_in = {n_in};\n",
    "}};\\n\"\"\"\n",
    "\n",
    "rev_function_template = 'nnet::reverse<{input_t}, {config}>({input}, {output});'\n",
    "rev_include_list = ['nnet_utils/nnet_reverse.h']\n",
    "\n",
    "class HReverseConfigTemplate(hls4ml.backends.template.LayerConfigTemplate):\n",
    "    def __init__(self):\n",
    "        super().__init__(HReverse)\n",
    "        self.template = rev_config_template\n",
    "\n",
    "    def format(self, node):\n",
    "        params = self._default_config_params(node)\n",
    "        return self.template.format(**params)\n",
    "    \n",
    "class HReverseFunctionTemplate(hls4ml.backends.template.FunctionCallTemplate):\n",
    "    def __init__(self):\n",
    "        super().__init__(HReverse, include_header=rev_include_list)\n",
    "        self.template = rev_function_template\n",
    "\n",
    "    def format(self, node):\n",
    "        params = self._default_function_params(node)\n",
    "        return self.template.format(**params)"
   ]
  },
  {
   "cell_type": "code",
   "execution_count": 3,
   "metadata": {},
   "outputs": [],
   "source": [
    "rev_hls = \"\"\"#ifndef NNET_REVERSE_H_\n",
    "#define NNET_REVERSE_H_\n",
    "\n",
    "#include \"nnet_common.h\"\n",
    "\n",
    "namespace nnet {\n",
    "\n",
    "struct reverse_config {\n",
    "    static const unsigned n_in = 10;\n",
    "};\n",
    "\n",
    "template<class data_T, typename CONFIG_T>\n",
    "void reverse(\n",
    "    data_T input[CONFIG_T::n_in],\n",
    "    data_T reversed[CONFIG_T::n_in]\n",
    ") {\n",
    "    for (int i = 0; i < CONFIG_T::n_in; i++) {\n",
    "        reversed[CONFIG_T::n_in - 1 - i] = input[i];\n",
    "    }\n",
    "}\n",
    "\n",
    "}\n",
    "\n",
    "#endif\n",
    "\"\"\"\n"
   ]
  },
  {
   "cell_type": "code",
   "execution_count": 4,
   "metadata": {},
   "outputs": [],
   "source": [
    "# @pytest.fixture(scope='session', autouse=True)\n",
    "def register_custom_layer():\n",
    "    # Register the converter for custom Keras layer\n",
    "    hls4ml.converters.register_keras_layer_handler('KReverse', parse_reverse_layer)\n",
    "\n",
    "    # Register the hls4ml's IR layer\n",
    "    hls4ml.model.layers.register_layer('HReverse', HReverse)\n",
    "\n",
    "@pytest.mark.parametrize('backend_id', ['Vivado', 'Vitis', 'Quartus'])\n",
    "def test_extensions(tmp_path, backend_id):\n",
    "    \n",
    "    # Register the optimization passes (if any)\n",
    "    backend = hls4ml.backends.get_backend(backend_id)\n",
    "    # ip_flow = hls4ml.model.flow.get_flow(backend.get_default_flow())\n",
    "    # Add the pass into the main optimization flow\n",
    "    # optimize_flow = [flow for flow in ip_flow.requires if ':optimize' in flow][0]\n",
    "    # optmizer_name = f'{backend_id.lower()}:remove_duplicate_reverse'\n",
    "    \n",
    "\n",
    "    # Register template passes for the given backend\n",
    "    try:\n",
    "        register_custom_layer()\n",
    "        backend.register_template(HReverseConfigTemplate)\n",
    "        backend.register_template(HReverseFunctionTemplate)\n",
    "        print(\"Registered custom layer\")\n",
    "    except Exception:\n",
    "        pass\n",
    "\n",
    "    # Register HLS implementation\n",
    "    p = tmp_path / 'nnet_reverse.h'\n",
    "    p.write_text(rev_hls)\n",
    "    backend.register_source(p)\n",
    "\n",
    "    # Test if it works\n",
    "    kmodel = tf.keras.models.Sequential(\n",
    "        [\n",
    "            tf.keras.layers.Input(shape=(8,)),\n",
    "            KReverse(),\n",
    "            tf.keras.layers.ReLU(),\n",
    "            # These two should be removed by the optimizer\n",
    "            KReverse(),\n",
    "            KReverse(),\n",
    "        ]\n",
    "    )\n",
    "\n",
    "    x = np.random.randint(-5, 5, (8,), dtype='int32')\n",
    "    kres = kmodel(x)\n",
    "\n",
    "    hmodel = hls4ml.converters.convert_from_keras_model(\n",
    "        kmodel,\n",
    "        output_dir=str(test_root_path / f'hls4mlprj_extensions_{backend_id}'),\n",
    "        backend=backend_id,\n",
    "        io_type='io_parallel',\n",
    "        hls_config={'Model': {'Precision': 'ap_int<6>', 'ReuseFactor': 1}},\n",
    "    )\n",
    "\n",
    "    hmodel.compile()\n",
    "    hres = hmodel.predict(x.astype('float32'))\n",
    "\n",
    "    np.testing.assert_array_equal(kres, hres)\n",
    "    return x, kres, hres"
   ]
  },
  {
   "cell_type": "code",
   "execution_count": 5,
   "metadata": {},
   "outputs": [
    {
     "name": "stdout",
     "output_type": "stream",
     "text": [
      "Registered custom layer and optimizer\n",
      "Interpreting Sequential\n",
      "Topology:\n",
      "Layer name: input_1, layer type: InputLayer, input shapes: [[None, 8]], output shape: [None, 8]\n",
      "Layer name: k_reverse, layer type: HReverse, input shapes: [[None, 8]], output shape: [None, 8]\n",
      "Layer name: re_lu, layer type: Activation, input shapes: [[None, 8]], output shape: [None, 8]\n",
      "Layer name: k_reverse_1, layer type: HReverse, input shapes: [[None, 8]], output shape: [None, 8]\n",
      "Layer name: k_reverse_2, layer type: HReverse, input shapes: [[None, 8]], output shape: [None, 8]\n",
      "Creating HLS model\n",
      "\n",
      "\n",
      "shape: [8], \n",
      "dims: ['N_INPUT_1_1']\n",
      "\n",
      "\n",
      "\n",
      "\n",
      "shape: [8], \n",
      "dims: ['N_INPUT_1_1']\n",
      "\n",
      "\n",
      "\n",
      "\n",
      "shape: [8], \n",
      "dims: ['N_INPUT_1_1']\n",
      "\n",
      "\n",
      "Writing HLS project\n",
      "WARNING:tensorflow:Compiled the loaded model, but the compiled metrics have yet to be built. `model.compile_metrics` will be empty until you train or evaluate the model.\n"
     ]
    },
    {
     "name": "stderr",
     "output_type": "stream",
     "text": [
      "2024-10-10 13:43:54.308857: I tensorflow/compiler/xla/stream_executor/cuda/cuda_gpu_executor.cc:967] could not open file to read NUMA node: /sys/bus/pci/devices/0000:01:00.0/numa_node\n",
      "Your kernel may have been built without NUMA support.\n",
      "2024-10-10 13:43:54.309094: W tensorflow/compiler/xla/stream_executor/platform/default/dso_loader.cc:64] Could not load dynamic library 'libcudart.so.11.0'; dlerror: libcudart.so.11.0: cannot open shared object file: No such file or directory\n",
      "2024-10-10 13:43:54.309207: W tensorflow/compiler/xla/stream_executor/platform/default/dso_loader.cc:64] Could not load dynamic library 'libcublas.so.11'; dlerror: libcublas.so.11: cannot open shared object file: No such file or directory\n",
      "2024-10-10 13:43:54.309278: W tensorflow/compiler/xla/stream_executor/platform/default/dso_loader.cc:64] Could not load dynamic library 'libcublasLt.so.11'; dlerror: libcublasLt.so.11: cannot open shared object file: No such file or directory\n",
      "2024-10-10 13:43:54.309346: W tensorflow/compiler/xla/stream_executor/platform/default/dso_loader.cc:64] Could not load dynamic library 'libcufft.so.10'; dlerror: libcufft.so.10: cannot open shared object file: No such file or directory\n",
      "2024-10-10 13:43:54.309411: W tensorflow/compiler/xla/stream_executor/platform/default/dso_loader.cc:64] Could not load dynamic library 'libcurand.so.10'; dlerror: libcurand.so.10: cannot open shared object file: No such file or directory\n",
      "2024-10-10 13:43:54.309478: W tensorflow/compiler/xla/stream_executor/platform/default/dso_loader.cc:64] Could not load dynamic library 'libcusolver.so.11'; dlerror: libcusolver.so.11: cannot open shared object file: No such file or directory\n",
      "2024-10-10 13:43:54.309543: W tensorflow/compiler/xla/stream_executor/platform/default/dso_loader.cc:64] Could not load dynamic library 'libcusparse.so.11'; dlerror: libcusparse.so.11: cannot open shared object file: No such file or directory\n",
      "2024-10-10 13:43:54.309606: W tensorflow/compiler/xla/stream_executor/platform/default/dso_loader.cc:64] Could not load dynamic library 'libcudnn.so.8'; dlerror: libcudnn.so.8: cannot open shared object file: No such file or directory\n",
      "2024-10-10 13:43:54.309621: W tensorflow/core/common_runtime/gpu/gpu_device.cc:1934] Cannot dlopen some GPU libraries. Please make sure the missing libraries mentioned above are installed properly if you would like to use GPU. Follow the guide at https://www.tensorflow.org/install/gpu for how to download and setup the required libraries for your platform.\n",
      "Skipping registering GPU devices...\n",
      "2024-10-10 13:43:54.311279: I tensorflow/core/platform/cpu_feature_guard.cc:193] This TensorFlow binary is optimized with oneAPI Deep Neural Network Library (oneDNN) to use the following CPU instructions in performance-critical operations:  AVX2 AVX_VNNI FMA\n",
      "To enable them in other operations, rebuild TensorFlow with the appropriate compiler flags.\n"
     ]
    },
    {
     "name": "stdout",
     "output_type": "stream",
     "text": [
      "Done\n"
     ]
    }
   ],
   "source": [
    "x, kres, hres = test_extensions(Path(os.path.join(os.getcwd(),'tmp')), 'Vivado')"
   ]
  }
 ],
 "metadata": {
  "kernelspec": {
   "display_name": "rheed_hls4ml_dev",
   "language": "python",
   "name": "python3"
  },
  "language_info": {
   "codemirror_mode": {
    "name": "ipython",
    "version": 3
   },
   "file_extension": ".py",
   "mimetype": "text/x-python",
   "name": "python",
   "nbconvert_exporter": "python",
   "pygments_lexer": "ipython3",
   "version": "3.10.15"
  }
 },
 "nbformat": 4,
 "nbformat_minor": 2
}
