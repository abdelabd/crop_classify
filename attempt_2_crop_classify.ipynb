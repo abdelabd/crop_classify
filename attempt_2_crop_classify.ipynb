{
 "cells": [
  {
   "cell_type": "code",
   "execution_count": 1,
   "metadata": {},
   "outputs": [
    {
     "name": "stdout",
     "output_type": "stream",
     "text": [
      "Defaulting to user installation because normal site-packages is not writeable\n"
     ]
    },
    {
     "name": "stdout",
     "output_type": "stream",
     "text": [
      "Requirement already satisfied: numpy in /home/mattwilk/.local/lib/python3.10/site-packages (1.26.4)\n",
      "Requirement already satisfied: pandas in /usr/lib/python3/dist-packages (1.3.5)\n",
      "Requirement already satisfied: matplotlib in /home/mattwilk/.local/lib/python3.10/site-packages (3.9.1)\n",
      "Requirement already satisfied: contourpy>=1.0.1 in /home/mattwilk/.local/lib/python3.10/site-packages (from matplotlib) (1.2.1)\n",
      "Requirement already satisfied: fonttools>=4.22.0 in /home/mattwilk/.local/lib/python3.10/site-packages (from matplotlib) (4.53.1)\n",
      "Requirement already satisfied: cycler>=0.10 in /home/mattwilk/.local/lib/python3.10/site-packages (from matplotlib) (0.12.1)\n",
      "Requirement already satisfied: python-dateutil>=2.7 in /home/mattwilk/.local/lib/python3.10/site-packages (from matplotlib) (2.9.0.post0)\n",
      "Requirement already satisfied: packaging>=20.0 in /home/mattwilk/.local/lib/python3.10/site-packages (from matplotlib) (24.1)\n",
      "Requirement already satisfied: pyparsing>=2.3.1 in /usr/lib/python3/dist-packages (from matplotlib) (2.4.7)\n",
      "Requirement already satisfied: pillow>=8 in /usr/lib/python3/dist-packages (from matplotlib) (9.0.1)\n",
      "Requirement already satisfied: kiwisolver>=1.3.1 in /home/mattwilk/.local/lib/python3.10/site-packages (from matplotlib) (1.4.5)\n",
      "Requirement already satisfied: six>=1.5 in /usr/lib/python3/dist-packages (from python-dateutil>=2.7->matplotlib) (1.16.0)\n",
      "Defaulting to user installation because normal site-packages is not writeable\n",
      "Requirement already satisfied: tensorflow in /home/mattwilk/.local/lib/python3.10/site-packages (2.17.0)\n",
      "Requirement already satisfied: packaging in /home/mattwilk/.local/lib/python3.10/site-packages (from tensorflow) (24.1)\n",
      "Requirement already satisfied: ml-dtypes<0.5.0,>=0.3.1 in /home/mattwilk/.local/lib/python3.10/site-packages (from tensorflow) (0.4.0)\n",
      "Requirement already satisfied: tensorflow-io-gcs-filesystem>=0.23.1 in /home/mattwilk/.local/lib/python3.10/site-packages (from tensorflow) (0.37.1)\n",
      "Requirement already satisfied: setuptools in /usr/lib/python3/dist-packages (from tensorflow) (59.6.0)\n",
      "Requirement already satisfied: astunparse>=1.6.0 in /home/mattwilk/.local/lib/python3.10/site-packages (from tensorflow) (1.6.3)\n",
      "Requirement already satisfied: wrapt>=1.11.0 in /home/mattwilk/.local/lib/python3.10/site-packages (from tensorflow) (1.16.0)\n",
      "Requirement already satisfied: requests<3,>=2.21.0 in /usr/lib/python3/dist-packages (from tensorflow) (2.25.1)\n",
      "Requirement already satisfied: grpcio<2.0,>=1.24.3 in /home/mattwilk/.local/lib/python3.10/site-packages (from tensorflow) (1.65.2)\n",
      "Requirement already satisfied: flatbuffers>=24.3.25 in /home/mattwilk/.local/lib/python3.10/site-packages (from tensorflow) (24.3.25)\n",
      "Requirement already satisfied: libclang>=13.0.0 in /home/mattwilk/.local/lib/python3.10/site-packages (from tensorflow) (18.1.1)\n",
      "Requirement already satisfied: six>=1.12.0 in /usr/lib/python3/dist-packages (from tensorflow) (1.16.0)\n",
      "Requirement already satisfied: numpy<2.0.0,>=1.23.5 in /home/mattwilk/.local/lib/python3.10/site-packages (from tensorflow) (1.26.4)\n",
      "Requirement already satisfied: tensorboard<2.18,>=2.17 in /home/mattwilk/.local/lib/python3.10/site-packages (from tensorflow) (2.17.0)\n",
      "Requirement already satisfied: protobuf!=4.21.0,!=4.21.1,!=4.21.2,!=4.21.3,!=4.21.4,!=4.21.5,<5.0.0dev,>=3.20.3 in /usr/lib/python3/dist-packages (from tensorflow) (4.21.12)\n",
      "Requirement already satisfied: keras>=3.2.0 in /home/mattwilk/.local/lib/python3.10/site-packages (from tensorflow) (3.4.1)\n",
      "Requirement already satisfied: google-pasta>=0.1.1 in /home/mattwilk/.local/lib/python3.10/site-packages (from tensorflow) (0.2.0)\n",
      "Requirement already satisfied: gast!=0.5.0,!=0.5.1,!=0.5.2,>=0.2.1 in /home/mattwilk/.local/lib/python3.10/site-packages (from tensorflow) (0.6.0)\n",
      "Requirement already satisfied: termcolor>=1.1.0 in /home/mattwilk/.local/lib/python3.10/site-packages (from tensorflow) (2.4.0)\n",
      "Requirement already satisfied: h5py>=3.10.0 in /home/mattwilk/.local/lib/python3.10/site-packages (from tensorflow) (3.11.0)\n",
      "Requirement already satisfied: absl-py>=1.0.0 in /home/mattwilk/.local/lib/python3.10/site-packages (from tensorflow) (2.1.0)\n",
      "Requirement already satisfied: typing-extensions>=3.6.6 in /home/mattwilk/.local/lib/python3.10/site-packages (from tensorflow) (4.12.2)\n",
      "Requirement already satisfied: opt-einsum>=2.3.2 in /home/mattwilk/.local/lib/python3.10/site-packages (from tensorflow) (3.3.0)\n",
      "Requirement already satisfied: wheel<1.0,>=0.23.0 in /usr/lib/python3/dist-packages (from astunparse>=1.6.0->tensorflow) (0.37.1)\n",
      "Requirement already satisfied: rich in /home/mattwilk/.local/lib/python3.10/site-packages (from keras>=3.2.0->tensorflow) (13.7.1)\n",
      "Requirement already satisfied: namex in /home/mattwilk/.local/lib/python3.10/site-packages (from keras>=3.2.0->tensorflow) (0.0.8)\n",
      "Requirement already satisfied: optree in /home/mattwilk/.local/lib/python3.10/site-packages (from keras>=3.2.0->tensorflow) (0.12.1)\n",
      "Requirement already satisfied: tensorboard-data-server<0.8.0,>=0.7.0 in /home/mattwilk/.local/lib/python3.10/site-packages (from tensorboard<2.18,>=2.17->tensorflow) (0.7.2)\n",
      "Requirement already satisfied: markdown>=2.6.8 in /home/mattwilk/.local/lib/python3.10/site-packages (from tensorboard<2.18,>=2.17->tensorflow) (3.6)\n",
      "Requirement already satisfied: werkzeug>=1.0.1 in /home/mattwilk/.local/lib/python3.10/site-packages (from tensorboard<2.18,>=2.17->tensorflow) (3.0.3)\n",
      "Requirement already satisfied: MarkupSafe>=2.1.1 in /home/mattwilk/.local/lib/python3.10/site-packages (from werkzeug>=1.0.1->tensorboard<2.18,>=2.17->tensorflow) (2.1.5)\n",
      "Requirement already satisfied: pygments<3.0.0,>=2.13.0 in /home/mattwilk/.local/lib/python3.10/site-packages (from rich->keras>=3.2.0->tensorflow) (2.18.0)\n",
      "Requirement already satisfied: markdown-it-py>=2.2.0 in /home/mattwilk/.local/lib/python3.10/site-packages (from rich->keras>=3.2.0->tensorflow) (3.0.0)\n",
      "Requirement already satisfied: mdurl~=0.1 in /home/mattwilk/.local/lib/python3.10/site-packages (from markdown-it-py>=2.2.0->rich->keras>=3.2.0->tensorflow) (0.1.2)\n"
     ]
    }
   ],
   "source": [
    "!pip install numpy pandas matplotlib \n",
    "!pip install tensorflow"
   ]
  },
  {
   "cell_type": "code",
   "execution_count": 2,
   "metadata": {},
   "outputs": [
    {
     "name": "stdout",
     "output_type": "stream",
     "text": [
      "Defaulting to user installation because normal site-packages is not writeable\n"
     ]
    },
    {
     "name": "stdout",
     "output_type": "stream",
     "text": [
      "Requirement already satisfied: tensorflow in /home/mattwilk/.local/lib/python3.10/site-packages (2.17.0)\n",
      "Requirement already satisfied: libclang>=13.0.0 in /home/mattwilk/.local/lib/python3.10/site-packages (from tensorflow) (18.1.1)\n",
      "Requirement already satisfied: tensorflow-io-gcs-filesystem>=0.23.1 in /home/mattwilk/.local/lib/python3.10/site-packages (from tensorflow) (0.37.1)\n",
      "Requirement already satisfied: six>=1.12.0 in /usr/lib/python3/dist-packages (from tensorflow) (1.16.0)\n",
      "Requirement already satisfied: opt-einsum>=2.3.2 in /home/mattwilk/.local/lib/python3.10/site-packages (from tensorflow) (3.3.0)\n",
      "Requirement already satisfied: h5py>=3.10.0 in /home/mattwilk/.local/lib/python3.10/site-packages (from tensorflow) (3.11.0)\n",
      "Requirement already satisfied: termcolor>=1.1.0 in /home/mattwilk/.local/lib/python3.10/site-packages (from tensorflow) (2.4.0)\n",
      "Requirement already satisfied: setuptools in /usr/lib/python3/dist-packages (from tensorflow) (59.6.0)\n",
      "Requirement already satisfied: ml-dtypes<0.5.0,>=0.3.1 in /home/mattwilk/.local/lib/python3.10/site-packages (from tensorflow) (0.4.0)\n",
      "Requirement already satisfied: gast!=0.5.0,!=0.5.1,!=0.5.2,>=0.2.1 in /home/mattwilk/.local/lib/python3.10/site-packages (from tensorflow) (0.6.0)\n",
      "Requirement already satisfied: absl-py>=1.0.0 in /home/mattwilk/.local/lib/python3.10/site-packages (from tensorflow) (2.1.0)\n",
      "Requirement already satisfied: tensorboard<2.18,>=2.17 in /home/mattwilk/.local/lib/python3.10/site-packages (from tensorflow) (2.17.0)\n",
      "Requirement already satisfied: google-pasta>=0.1.1 in /home/mattwilk/.local/lib/python3.10/site-packages (from tensorflow) (0.2.0)\n",
      "Requirement already satisfied: packaging in /home/mattwilk/.local/lib/python3.10/site-packages (from tensorflow) (24.1)\n",
      "Requirement already satisfied: astunparse>=1.6.0 in /home/mattwilk/.local/lib/python3.10/site-packages (from tensorflow) (1.6.3)\n",
      "Requirement already satisfied: protobuf!=4.21.0,!=4.21.1,!=4.21.2,!=4.21.3,!=4.21.4,!=4.21.5,<5.0.0dev,>=3.20.3 in /usr/lib/python3/dist-packages (from tensorflow) (4.21.12)\n",
      "Requirement already satisfied: keras>=3.2.0 in /home/mattwilk/.local/lib/python3.10/site-packages (from tensorflow) (3.4.1)\n",
      "Requirement already satisfied: numpy<2.0.0,>=1.23.5 in /home/mattwilk/.local/lib/python3.10/site-packages (from tensorflow) (1.26.4)\n",
      "Requirement already satisfied: wrapt>=1.11.0 in /home/mattwilk/.local/lib/python3.10/site-packages (from tensorflow) (1.16.0)\n",
      "Requirement already satisfied: flatbuffers>=24.3.25 in /home/mattwilk/.local/lib/python3.10/site-packages (from tensorflow) (24.3.25)\n",
      "Requirement already satisfied: grpcio<2.0,>=1.24.3 in /home/mattwilk/.local/lib/python3.10/site-packages (from tensorflow) (1.65.2)\n",
      "Requirement already satisfied: typing-extensions>=3.6.6 in /home/mattwilk/.local/lib/python3.10/site-packages (from tensorflow) (4.12.2)\n",
      "Requirement already satisfied: requests<3,>=2.21.0 in /usr/lib/python3/dist-packages (from tensorflow) (2.25.1)\n",
      "Requirement already satisfied: wheel<1.0,>=0.23.0 in /usr/lib/python3/dist-packages (from astunparse>=1.6.0->tensorflow) (0.37.1)\n",
      "Requirement already satisfied: rich in /home/mattwilk/.local/lib/python3.10/site-packages (from keras>=3.2.0->tensorflow) (13.7.1)\n",
      "Requirement already satisfied: namex in /home/mattwilk/.local/lib/python3.10/site-packages (from keras>=3.2.0->tensorflow) (0.0.8)\n",
      "Requirement already satisfied: optree in /home/mattwilk/.local/lib/python3.10/site-packages (from keras>=3.2.0->tensorflow) (0.12.1)\n",
      "Requirement already satisfied: werkzeug>=1.0.1 in /home/mattwilk/.local/lib/python3.10/site-packages (from tensorboard<2.18,>=2.17->tensorflow) (3.0.3)\n",
      "Requirement already satisfied: tensorboard-data-server<0.8.0,>=0.7.0 in /home/mattwilk/.local/lib/python3.10/site-packages (from tensorboard<2.18,>=2.17->tensorflow) (0.7.2)\n",
      "Requirement already satisfied: markdown>=2.6.8 in /home/mattwilk/.local/lib/python3.10/site-packages (from tensorboard<2.18,>=2.17->tensorflow) (3.6)\n",
      "Requirement already satisfied: MarkupSafe>=2.1.1 in /home/mattwilk/.local/lib/python3.10/site-packages (from werkzeug>=1.0.1->tensorboard<2.18,>=2.17->tensorflow) (2.1.5)\n",
      "Requirement already satisfied: pygments<3.0.0,>=2.13.0 in /home/mattwilk/.local/lib/python3.10/site-packages (from rich->keras>=3.2.0->tensorflow) (2.18.0)\n",
      "Requirement already satisfied: markdown-it-py>=2.2.0 in /home/mattwilk/.local/lib/python3.10/site-packages (from rich->keras>=3.2.0->tensorflow) (3.0.0)\n",
      "Requirement already satisfied: mdurl~=0.1 in /home/mattwilk/.local/lib/python3.10/site-packages (from markdown-it-py>=2.2.0->rich->keras>=3.2.0->tensorflow) (0.1.2)\n",
      "Note: you may need to restart the kernel to use updated packages.\n"
     ]
    }
   ],
   "source": [
    "pip install --upgrade tensorflow"
   ]
  },
  {
   "cell_type": "code",
   "execution_count": 1,
   "metadata": {},
   "outputs": [
    {
     "name": "stderr",
     "output_type": "stream",
     "text": [
      "2024-08-05 19:31:36.269113: E external/local_xla/xla/stream_executor/cuda/cuda_fft.cc:485] Unable to register cuFFT factory: Attempting to register factory for plugin cuFFT when one has already been registered\n",
      "2024-08-05 19:31:36.284135: E external/local_xla/xla/stream_executor/cuda/cuda_dnn.cc:8454] Unable to register cuDNN factory: Attempting to register factory for plugin cuDNN when one has already been registered\n",
      "2024-08-05 19:31:36.288536: E external/local_xla/xla/stream_executor/cuda/cuda_blas.cc:1452] Unable to register cuBLAS factory: Attempting to register factory for plugin cuBLAS when one has already been registered\n",
      "2024-08-05 19:31:36.304870: I tensorflow/core/platform/cpu_feature_guard.cc:210] This TensorFlow binary is optimized to use available CPU instructions in performance-critical operations.\n",
      "To enable the following instructions: AVX2 FMA, in other operations, rebuild TensorFlow with the appropriate compiler flags.\n",
      "2024-08-05 19:31:37.253773: W tensorflow/compiler/tf2tensorrt/utils/py_utils.cc:38] TF-TRT Warning: Could not find TensorRT\n",
      "/usr/lib/python3/dist-packages/scipy/__init__.py:146: UserWarning: A NumPy version >=1.17.3 and <1.25.0 is required for this version of SciPy (detected version 1.26.4\n",
      "  warnings.warn(f\"A NumPy version >={np_minversion} and <{np_maxversion}\"\n"
     ]
    }
   ],
   "source": [
    "import matplotlib.pyplot as plt\n",
    "import numpy as np\n",
    "import tensorflow as tf\n",
    "from tensorflow.keras.datasets import mnist"
   ]
  },
  {
   "cell_type": "code",
   "execution_count": 2,
   "metadata": {},
   "outputs": [
    {
     "name": "stdout",
     "output_type": "stream",
     "text": [
      "Mon Aug  5 19:31:40 2024       \n",
      "+-----------------------------------------------------------------------------------------+\n",
      "| NVIDIA-SMI 550.90.07              Driver Version: 550.90.07      CUDA Version: 12.4     |\n",
      "|-----------------------------------------+------------------------+----------------------+\n",
      "| GPU  Name                 Persistence-M | Bus-Id          Disp.A | Volatile Uncorr. ECC |\n",
      "| Fan  Temp   Perf          Pwr:Usage/Cap |           Memory-Usage | GPU-Util  Compute M. |\n",
      "|                                         |                        |               MIG M. |\n",
      "|=========================================+========================+======================|\n",
      "|   0  NVIDIA RTX A6000               Off |   00000000:01:00.0 Off |                  Off |\n",
      "| 41%   67C    P2            248W /  300W |   35476MiB /  49140MiB |     88%      Default |\n",
      "|                                         |                        |                  N/A |\n",
      "+-----------------------------------------+------------------------+----------------------+\n",
      "|   1  NVIDIA RTX A6000               Off |   00000000:23:00.0 Off |                  Off |\n",
      "| 30%   30C    P8             24W /  300W |   35476MiB /  49140MiB |      0%      Default |\n",
      "|                                         |                        |                  N/A |\n",
      "+-----------------------------------------+------------------------+----------------------+\n",
      "|   2  NVIDIA RTX A6000               Off |   00000000:41:00.0 Off |                  Off |\n",
      "| 30%   29C    P8             28W /  300W |     278MiB /  49140MiB |      0%      Default |\n",
      "|                                         |                        |                  N/A |\n",
      "+-----------------------------------------+------------------------+----------------------+\n",
      "|   3  NVIDIA RTX A6000               Off |   00000000:61:00.0 Off |                  Off |\n",
      "| 30%   35C    P2             81W /  300W |   12014MiB /  49140MiB |      7%      Default |\n",
      "|                                         |                        |                  N/A |\n",
      "+-----------------------------------------+------------------------+----------------------+\n",
      "|   4  NVIDIA RTX A6000               Off |   00000000:81:00.0 Off |                  Off |\n",
      "| 30%   30C    P8             19W /  300W |      13MiB /  49140MiB |      0%      Default |\n",
      "|                                         |                        |                  N/A |\n",
      "+-----------------------------------------+------------------------+----------------------+\n",
      "|   5  NVIDIA RTX A6000               Off |   00000000:A1:00.0 Off |                  Off |\n",
      "| 41%   68C    P2            280W /  300W |   41695MiB /  49140MiB |    100%      Default |\n",
      "|                                         |                        |                  N/A |\n",
      "+-----------------------------------------+------------------------+----------------------+\n"
     ]
    },
    {
     "name": "stdout",
     "output_type": "stream",
     "text": [
      "|   6  NVIDIA RTX A6000               Off |   00000000:C1:00.0 Off |                  Off |\n",
      "| 52%   76C    P2            281W /  300W |   41390MiB /  49140MiB |    100%      Default |\n",
      "|                                         |                        |                  N/A |\n",
      "+-----------------------------------------+------------------------+----------------------+\n",
      "|   7  NVIDIA RTX A6000               Off |   00000000:E1:00.0 Off |                  Off |\n",
      "| 50%   67C    P2             95W /  300W |   47166MiB /  49140MiB |      0%      Default |\n",
      "|                                         |                        |                  N/A |\n",
      "+-----------------------------------------+------------------------+----------------------+\n",
      "                                                                                         \n",
      "+-----------------------------------------------------------------------------------------+\n",
      "| Processes:                                                                              |\n",
      "|  GPU   GI   CI        PID   Type   Process name                              GPU Memory |\n",
      "|        ID   ID                                                               Usage      |\n",
      "|=========================================================================================|\n",
      "|    0   N/A  N/A      3345      G   /usr/lib/xorg/Xorg                              4MiB |\n",
      "|    0   N/A  N/A   1081210      C   ...da3/envs/TransformerVAE6/bin/python      35460MiB |\n",
      "|    1   N/A  N/A      3345      G   /usr/lib/xorg/Xorg                              4MiB |\n",
      "|    1   N/A  N/A   1081797      C   ...da3/envs/TransformerVAE6/bin/python      35460MiB |\n",
      "|    2   N/A  N/A      3345      G   /usr/lib/xorg/Xorg                              4MiB |\n",
      "|    2   N/A  N/A   1303104      C   ...da3/envs/TransformerVAE6/bin/python        262MiB |\n",
      "|    3   N/A  N/A      3345      G   /usr/lib/xorg/Xorg                              4MiB |\n",
      "|    3   N/A  N/A   1087095      C   ...iniconda3/envs/multifunc/bin/python      11998MiB |\n",
      "|    4   N/A  N/A      3345      G   /usr/lib/xorg/Xorg                              4MiB |\n",
      "|    5   N/A  N/A      3345      G   /usr/lib/xorg/Xorg                              4MiB |\n",
      "|    5   N/A  N/A   2071610      C   .../anaconda3/envs/symmetry/bin/python      41374MiB |\n",
      "|    5   N/A  N/A   2071611      C   .../anaconda3/envs/symmetry/bin/python        302MiB |\n",
      "|    6   N/A  N/A      3345      G   /usr/lib/xorg/Xorg                              4MiB |\n",
      "|    6   N/A  N/A   2071611      C   .../anaconda3/envs/symmetry/bin/python      41374MiB |\n",
      "|    7   N/A  N/A      3345      G   /usr/lib/xorg/Xorg                              4MiB |\n",
      "|    7   N/A  N/A   1042087      C   ...a3/envs/ElectronCounting/bin/python      47150MiB |\n",
      "+-----------------------------------------------------------------------------------------+\n"
     ]
    }
   ],
   "source": [
    "!nvidia-smi"
   ]
  },
  {
   "cell_type": "code",
   "execution_count": 3,
   "metadata": {},
   "outputs": [],
   "source": [
    "import os\n",
    "os.environ[\"CUDA_VISIBLE_DEVICES\"] = \"2\""
   ]
  },
  {
   "cell_type": "code",
   "execution_count": 4,
   "metadata": {},
   "outputs": [
    {
     "name": "stdout",
     "output_type": "stream",
     "text": [
      "Available GPUs: [PhysicalDevice(name='/physical_device:GPU:0', device_type='GPU')]\n",
      "GPU 0: /physical_device:GPU:0\n"
     ]
    }
   ],
   "source": [
    "import tensorflow as tf\n",
    "\n",
    "# List all GPUs available\n",
    "gpus = tf.config.list_physical_devices('GPU')\n",
    "print(\"Available GPUs:\", gpus)\n",
    "\n",
    "# Set memory growth for each GPU\n",
    "for gpu in gpus:\n",
    "    tf.config.experimental.set_memory_growth(gpu, True)\n",
    "\n",
    "# Check if GPUs are visible to TensorFlow\n",
    "if len(gpus) == 0:\n",
    "    print(\"No GPUs detected by TensorFlow.\")\n",
    "else:\n",
    "    for i, gpu in enumerate(gpus):\n",
    "        print(f\"GPU {i}: {gpu.name}\")"
   ]
  },
  {
   "cell_type": "code",
   "execution_count": 6,
   "metadata": {},
   "outputs": [
    {
     "name": "stdout",
     "output_type": "stream",
     "text": [
      "Using GPU: /physical_device:GPU:0\n",
      "tf.Tensor(\n",
      "[[ 2.  4.  6.]\n",
      " [ 8. 10. 12.]], shape=(2, 3), dtype=float32)\n"
     ]
    },
    {
     "name": "stderr",
     "output_type": "stream",
     "text": [
      "2024-08-05 19:32:02.377795: I tensorflow/core/common_runtime/gpu/gpu_device.cc:2021] Created device /job:localhost/replica:0/task:0/device:GPU:0 with 46593 MB memory:  -> device: 0, name: NVIDIA RTX A6000, pci bus id: 0000:41:00.0, compute capability: 8.6\n"
     ]
    }
   ],
   "source": [
    "# Set the visible GPU device to GPU 2\n",
    "gpus = tf.config.list_physical_devices('GPU')\n",
    "if gpus:\n",
    "    try:\n",
    "        # Set GPU 2 as visible device\n",
    "        tf.config.set_visible_devices(gpus[0], 'GPU')\n",
    "        \n",
    "        # Optionally, set memory growth to prevent TensorFlow from allocating all GPU memory\n",
    "        for gpu in gpus:\n",
    "            tf.config.experimental.set_memory_growth(gpu, True)\n",
    "        \n",
    "        # Print the name of the GPU being used\n",
    "        print(f\"Using GPU: {gpus[0].name}\")\n",
    "\n",
    "    except RuntimeError as e:\n",
    "        print(f\"Error: {e}\")\n",
    "\n",
    "# Example TensorFlow operation to check if GPU is being used\n",
    "def check_gpu():\n",
    "    with tf.device('/device:GPU:0'):\n",
    "        a = tf.constant([[1.0, 2.0, 3.0], [4.0, 5.0, 6.0]])\n",
    "        b = tf.constant([[1.0, 2.0, 3.0], [4.0, 5.0, 6.0]])\n",
    "        c = tf.add(a, b)\n",
    "        print(c)\n",
    "\n",
    "check_gpu()"
   ]
  },
  {
   "cell_type": "code",
   "execution_count": 7,
   "metadata": {},
   "outputs": [
    {
     "name": "stdout",
     "output_type": "stream",
     "text": [
      "Num GPUs Available:  1\n"
     ]
    }
   ],
   "source": [
    "import tensorflow as tf\n",
    "print(\"Num GPUs Available: \", len(tf.config.list_physical_devices('GPU')))\n"
   ]
  },
  {
   "cell_type": "code",
   "execution_count": 8,
   "metadata": {},
   "outputs": [],
   "source": [
    "def create_dataset(num_train_samples=1000, num_test_samples=250):\n",
    "    (train_images, train_labels), (test_images, test_labels) = mnist.load_data()\n",
    "\n",
    "    # Limit the number of samples\n",
    "    train_images = train_images[:num_train_samples]\n",
    "    train_labels = train_labels[:num_train_samples]\n",
    "    test_images = test_images[:num_test_samples]\n",
    "    test_labels = test_labels[:num_test_samples]\n",
    "\n",
    "    # Normalizing and resizing MNIST digits to be placed in a 256x256 image\n",
    "    def place_digit(image):\n",
    "        size = 256\n",
    "        placement = np.zeros((size, size), dtype=np.float32)\n",
    "        x_offset = np.random.randint(0, size - 28)\n",
    "        y_offset = np.random.randint(0, size - 28)\n",
    "        placement[y_offset:y_offset + 28, x_offset:x_offset + 28] = image\n",
    "        return placement, [x_offset / size, y_offset / size, (x_offset + 28) / size, (y_offset + 28) / size]\n",
    "\n",
    "    # Applying the function and separating results\n",
    "    train_results = [place_digit(img) for img in train_images]\n",
    "    test_results = [place_digit(img) for img in test_images]\n",
    "\n",
    "    # Normalize and reshape images\n",
    "    train_images = np.array([res[0] for res in train_results]) / 255.0\n",
    "    train_bboxes = np.array([res[1] for res in train_results])\n",
    "    test_images = np.array([res[0] for res in test_results]) / 255.0\n",
    "    test_bboxes = np.array([res[1] for res in test_results])\n",
    "\n",
    "    # Expand dimensions to include channel information\n",
    "    train_images = np.expand_dims(train_images, axis=-1)\n",
    "    test_images = np.expand_dims(test_images, axis=-1)\n",
    "\n",
    "    return (train_images, train_bboxes, train_labels), (test_images, test_bboxes, test_labels)\n",
    "\n",
    "(train_images, train_bboxes, train_labels), (test_images, test_bboxes, test_labels) = create_dataset()"
   ]
  },
  {
   "cell_type": "code",
   "execution_count": 9,
   "metadata": {},
   "outputs": [
    {
     "data": {
      "text/plain": [
       "<matplotlib.image.AxesImage at 0x7f5780914640>"
      ]
     },
     "execution_count": 9,
     "metadata": {},
     "output_type": "execute_result"
    },
    {
     "data": {
      "image/png": "[encoded data removed]",
      "text/plain": [
       "<Figure size 640x480 with 1 Axes>"
      ]
     },
     "metadata": {},
     "output_type": "display_data"
    }
   ],
   "source": [
    "plt.imshow(train_images[0])"
   ]
  },
  {
   "cell_type": "code",
   "execution_count": 10,
   "metadata": {},
   "outputs": [
    {
     "name": "stdout",
     "output_type": "stream",
     "text": [
      "WARNING:tensorflow:Using a while_loop for converting ResizeBilinear cause there is no registered converter for this op.\n"
     ]
    }
   ],
   "source": [
    "import tensorflow as tf\n",
    "from tensorflow.keras.layers import Layer, Input, Dense, Conv2D, MaxPooling2D, Flatten, Dropout\n",
    "from tensorflow.keras.models import Model\n",
    "\n",
    "def crop_and_resize_image(image, box, target_size=(28, 28)):\n",
    "    \"\"\"\n",
    "    Crops an image to the specified bounding box and then resizes it to the target size.\n",
    "    \n",
    "    :param image: A 3-D Tensor of shape [height, width, channels].\n",
    "    :param box: A 1-D Tensor of shape [4] containing the bounding box (y_offset, x_offset, target_height, target_width).\n",
    "    :param target_size: A tuple specifying the target height and width.\n",
    "    :return: A resized 3-D Tensor.\n",
    "    \"\"\"\n",
    "    box = tf.cast(box, tf.int32)  # Ensure the box coordinates are integers\n",
    "    cropped_image = tf.image.crop_to_bounding_box(image, box[1], box[0], target_size[0], target_size[1])\n",
    "    resized_image = tf.image.resize(cropped_image, target_size)\n",
    "    return resized_image\n",
    "\n",
    "def crop_and_resize_batch(images, boxes, target_size=(28, 28)):\n",
    "    \"\"\"\n",
    "    Applies cropping and resizing to each image in a batch with corresponding bounding boxes.\n",
    "    \n",
    "    :param images: A 4-D Tensor of shape [batch_size, height, width, channels].\n",
    "    :param boxes: A 2-D Tensor of shape [batch_size, 4] containing bounding boxes.\n",
    "    :param target_size: A tuple specifying the target height and width.\n",
    "    :return: A 4-D Tensor of cropped and resized images.\n",
    "    \"\"\"\n",
    "    def process_image_and_box(image, box):\n",
    "        return crop_and_resize_image(image, box, target_size)\n",
    "    \n",
    "    return tf.vectorized_map(lambda x: process_image_and_box(x[0], x[1]), (images, boxes))\n",
    "\n",
    "# Example custom layer for cropping and resizing\n",
    "class CroppingAndResizingLayer(tf.keras.layers.Layer):\n",
    "    def __init__(self, target_size=(28, 28), **kwargs):\n",
    "        super(CroppingAndResizingLayer, self).__init__(**kwargs)\n",
    "        self.target_size = target_size\n",
    "        self.image_size = (256, 256)\n",
    "\n",
    "    def call(self, inputs):\n",
    "        images, boxes = inputs\n",
    "        boxes = tf.cast(boxes * self.image_size[0], tf.int32)  # Ensure boxes are integers\n",
    "        return crop_and_resize_batch(images, boxes, self.target_size)\n",
    "\n",
    "# Usage Example\n",
    "# Assuming 'model_input' and 'bbox_coords' are your input images and bounding box coordinates\n",
    "# crop_layer = CropLayer(target_size=(28, 28))\n",
    "# cropped_and_padded_images = crop_layer([model_input, bbox_coords])\n",
    "\n",
    "def create_model():\n",
    "    input_layer = Input(shape=(256, 256, 1))\n",
    "    \n",
    "    # Base convolutional layers\n",
    "    x = Conv2D(32, (3, 3), activation='relu', padding='same')(input_layer)\n",
    "    x = MaxPooling2D((2, 2))(x)\n",
    "    x = Conv2D(64, (3, 3), activation='relu', padding='same')(x)\n",
    "    x = MaxPooling2D((2, 2))(x)\n",
    "    x = Conv2D(128, (3, 3), activation='relu', padding='same')(x)\n",
    "    x = MaxPooling2D((2, 2))(x)\n",
    "    x = Flatten()(x)\n",
    "    \n",
    "    # Localization branch predicts coordinates for cropping\n",
    "    localization = Dense(128, activation='relu')(x)\n",
    "    coords = Dense(4, activation='sigmoid', name='localization_output')(localization)  # Named output for localization\n",
    "    \n",
    "    # Cropping layer\n",
    "    crop_layer = CroppingAndResizingLayer(target_size=(28, 28))([input_layer, coords])\n",
    "    \n",
    "    # Classification branch\n",
    "    classification_input = Flatten()(crop_layer)\n",
    "    classification = Dense(128, activation='relu')(classification_input)\n",
    "    classification = Dropout(0.5)(classification)\n",
    "    classification_output = Dense(10, activation='softmax', name='classification_output')(classification)  # Named output for classification\n",
    "    \n",
    "    # Construct the full model\n",
    "    model = Model(inputs=input_layer, outputs=[coords, classification_output])\n",
    "    \n",
    "    return model\n",
    "\n",
    "model = create_model()"
   ]
  },
  {
   "cell_type": "code",
   "execution_count": 11,
   "metadata": {},
   "outputs": [],
   "source": [
    "from tensorflow.keras import backend as K\n",
    "import tensorflow as tf\n",
    "\n",
    "def clear_session():\n",
    "    K.clear_session()\n",
    "    tf.compat.v1.reset_default_graph()\n",
    "    # Clear the GPU memory\n",
    "    from tensorflow.python.framework import ops\n",
    "    ops.reset_default_graph()\n",
    "\n",
    "clear_session()"
   ]
  },
  {
   "cell_type": "code",
   "execution_count": 12,
   "metadata": {},
   "outputs": [],
   "source": [
    "model.compile(\n",
    "    optimizer='adam',\n",
    "    loss={\n",
    "        'localization_output': 'mean_squared_error',  # Corrected to the actual output layer name\n",
    "        'classification_output': 'sparse_categorical_crossentropy'  # Corrected to the actual output layer name\n",
    "    },\n",
    "    loss_weights={\n",
    "        'localization_output': 1.0,  # Ensure the weight matches the importance of the task\n",
    "        'classification_output': 1.0  # Ensure the weight matches the importance of the task\n",
    "    },\n",
    "    metrics={\n",
    "        'localization_output': ['mae'],  # Metrics for the localization output\n",
    "        'classification_output': ['accuracy']  # Metrics for the classification output\n",
    "    }\n",
    ")"
   ]
  },
  {
   "cell_type": "code",
   "execution_count": 13,
   "metadata": {},
   "outputs": [
    {
     "name": "stdout",
     "output_type": "stream",
     "text": [
      "Epoch 1/10\n",
      "WARNING:tensorflow:Using a while_loop for converting ResizeBilinear cause there is no registered converter for this op.\n",
      "WARNING:tensorflow:Using a while_loop for converting ResizeBilinear cause there is no registered converter for this op.\n"
     ]
    },
    {
     "name": "stderr",
     "output_type": "stream",
     "text": [
      "WARNING: All log messages before absl::InitializeLog() is called are written to STDERR\n",
      "I0000 00:00:1722886348.227751 1174163 service.cc:146] XLA service 0x7f5540007cf0 initialized for platform CUDA (this does not guarantee that XLA will be used). Devices:\n",
      "I0000 00:00:1722886348.227867 1174163 service.cc:154]   StreamExecutor device (0): NVIDIA RTX A6000, Compute Capability 8.6\n",
      "2024-08-05 19:32:28.379918: I tensorflow/compiler/mlir/tensorflow/utils/dump_mlir_util.cc:268] disabling MLIR crash reproducer, set env var `MLIR_CRASH_REPRODUCER_DIRECTORY` to enable.\n",
      "W0000 00:00:1722886348.544275 1174163 assert_op.cc:38] Ignoring Assert operator functional_1/cropping_and_resizing_layer_1/StatefulPartitionedCall/loop_body/crop_to_bounding_box/Assert/Assert\n",
      "W0000 00:00:1722886348.544723 1174163 assert_op.cc:38] Ignoring Assert operator functional_1/cropping_and_resizing_layer_1/StatefulPartitionedCall/loop_body/crop_to_bounding_box/Assert_1/Assert\n",
      "W0000 00:00:1722886348.544994 1174163 assert_op.cc:38] Ignoring Assert operator functional_1/cropping_and_resizing_layer_1/StatefulPartitionedCall/loop_body/crop_to_bounding_box/Assert_2/Assert\n",
      "W0000 00:00:1722886348.545096 1174163 assert_op.cc:38] Ignoring Assert operator functional_1/cropping_and_resizing_layer_1/StatefulPartitionedCall/loop_body/crop_to_bounding_box/Assert_3/Assert\n",
      "W0000 00:00:1722886348.545900 1174163 assert_op.cc:38] Ignoring Assert operator functional_1/cropping_and_resizing_layer_1/StatefulPartitionedCall/loop_body/crop_to_bounding_box/Assert_3/Assert/pfor/Assert\n",
      "W0000 00:00:1722886348.546545 1174163 assert_op.cc:38] Ignoring Assert operator functional_1/cropping_and_resizing_layer_1/StatefulPartitionedCall/loop_body/crop_to_bounding_box/Assert_2/Assert/pfor/Assert\n",
      "W0000 00:00:1722886348.546638 1174163 assert_op.cc:38] Ignoring Assert operator functional_1/cropping_and_resizing_layer_1/StatefulPartitionedCall/loop_body/crop_to_bounding_box/Assert_1/Assert/pfor/Assert\n",
      "W0000 00:00:1722886348.546721 1174163 assert_op.cc:38] Ignoring Assert operator functional_1/cropping_and_resizing_layer_1/StatefulPartitionedCall/loop_body/crop_to_bounding_box/Assert/Assert/pfor/Assert\n",
      "2024-08-05 19:32:28.846755: I external/local_xla/xla/stream_executor/cuda/cuda_dnn.cc:531] Loaded cuDNN version 8907\n",
      "2024-08-05 19:32:29.880569: E external/local_xla/xla/service/slow_operation_alarm.cc:65] Constant folding an instruction is taking > 1s:\n",
      "\n",
      "  %convolution.303 = f32[16,256,256,32]{3,2,1,0} convolution(f32[16,256,256,1]{3,2,1,0} %constant.302, f32[3,3,1,32]{3,2,1,0} %constant.301), window={size=3x3 pad=1_1x1_1}, dim_labels=b01f_01io->b01f, metadata={op_type=\"Conv2D\" op_name=\"functional_1/conv2d_1/convolution\" source_file=\"/home/mattwilk/.local/lib/python3.10/site-packages/tensorflow/python/framework/ops.py\" source_line=1177}\n",
      "\n",
      "This isn't necessarily a bug; constant-folding is inherently a trade-off between compilation time and speed at runtime. XLA has some guards that attempt to keep constant folding from taking too long, but fundamentally you'll always be able to come up with an input program that takes a long time.\n",
      "\n",
      "If you'd like to file a bug, run with envvar XLA_FLAGS=--xla_dump_to=/tmp/foo and attach the results.\n",
      "2024-08-05 19:32:32.904729: E external/local_xla/xla/service/slow_operation_alarm.cc:133] The operation took 4.024232929s\n",
      "Constant folding an instruction is taking > 1s:\n",
      "\n",
      "  %convolution.303 = f32[16,256,256,32]{3,2,1,0} convolution(f32[16,256,256,1]{3,2,1,0} %constant.302, f32[3,3,1,32]{3,2,1,0} %constant.301), window={size=3x3 pad=1_1x1_1}, dim_labels=b01f_01io->b01f, metadata={op_type=\"Conv2D\" op_name=\"functional_1/conv2d_1/convolution\" source_file=\"/home/mattwilk/.local/lib/python3.10/site-packages/tensorflow/python/framework/ops.py\" source_line=1177}\n",
      "\n",
      "This isn't necessarily a bug; constant-folding is inherently a trade-off between compilation time and speed at runtime. XLA has some guards that attempt to keep constant folding from taking too long, but fundamentally you'll always be able to come up with an input program that takes a long time.\n",
      "\n",
      "If you'd like to file a bug, run with envvar XLA_FLAGS=--xla_dump_to=/tmp/foo and attach the results.\n"
     ]
    },
    {
     "name": "stdout",
     "output_type": "stream",
     "text": [
      "\u001b[1m 1/63\u001b[0m \u001b[37m━━━━━━━━━━━━━━━━━━━━\u001b[0m \u001b[1m11:27\u001b[0m 11s/step - classification_output_accuracy: 0.0625 - localization_output_mae: 0.2232 - loss: 2.3688"
     ]
    },
    {
     "name": "stderr",
     "output_type": "stream",
     "text": [
      "I0000 00:00:1722886357.385325 1174163 device_compiler.h:188] Compiled cluster using XLA!  This line is logged at most once for the lifetime of the process.\n",
      "W0000 00:00:1722886357.800412 1174170 assert_op.cc:38] Ignoring Assert operator functional_1/cropping_and_resizing_layer_1/StatefulPartitionedCall/loop_body/crop_to_bounding_box/Assert/Assert\n",
      "W0000 00:00:1722886357.800460 1174170 assert_op.cc:38] Ignoring Assert operator functional_1/cropping_and_resizing_layer_1/StatefulPartitionedCall/loop_body/crop_to_bounding_box/Assert_1/Assert\n",
      "W0000 00:00:1722886357.800509 1174170 assert_op.cc:38] Ignoring Assert operator functional_1/cropping_and_resizing_layer_1/StatefulPartitionedCall/loop_body/crop_to_bounding_box/Assert_2/Assert\n",
      "W0000 00:00:1722886357.800521 1174170 assert_op.cc:38] Ignoring Assert operator functional_1/cropping_and_resizing_layer_1/StatefulPartitionedCall/loop_body/crop_to_bounding_box/Assert_3/Assert\n",
      "W0000 00:00:1722886357.800814 1174170 assert_op.cc:38] Ignoring Assert operator functional_1/cropping_and_resizing_layer_1/StatefulPartitionedCall/loop_body/crop_to_bounding_box/Assert_3/Assert/pfor/Assert\n",
      "W0000 00:00:1722886357.801048 1174170 assert_op.cc:38] Ignoring Assert operator functional_1/cropping_and_resizing_layer_1/StatefulPartitionedCall/loop_body/crop_to_bounding_box/Assert_2/Assert/pfor/Assert\n",
      "W0000 00:00:1722886357.801066 1174170 assert_op.cc:38] Ignoring Assert operator functional_1/cropping_and_resizing_layer_1/StatefulPartitionedCall/loop_body/crop_to_bounding_box/Assert_1/Assert/pfor/Assert\n",
      "W0000 00:00:1722886357.801076 1174170 assert_op.cc:38] Ignoring Assert operator functional_1/cropping_and_resizing_layer_1/StatefulPartitionedCall/loop_body/crop_to_bounding_box/Assert/Assert/pfor/Assert\n",
      "2024-08-05 19:32:40.075840: E external/local_xla/xla/service/slow_operation_alarm.cc:65] Constant folding an instruction is taking > 2s:\n",
      "\n",
      "  %convolution.302 = f32[16,256,256,32]{3,2,1,0} convolution(f32[16,256,256,1]{3,2,1,0} %constant.301, f32[3,3,1,32]{3,2,1,0} %constant.300), window={size=3x3 pad=1_1x1_1}, dim_labels=b01f_01io->b01f, metadata={op_type=\"Conv2D\" op_name=\"functional_1/conv2d_1/convolution\" source_file=\"/home/mattwilk/.local/lib/python3.10/site-packages/tensorflow/python/framework/ops.py\" source_line=1177}\n",
      "\n",
      "This isn't necessarily a bug; constant-folding is inherently a trade-off between compilation time and speed at runtime. XLA has some guards that attempt to keep constant folding from taking too long, but fundamentally you'll always be able to come up with an input program that takes a long time.\n",
      "\n",
      "If you'd like to file a bug, run with envvar XLA_FLAGS=--xla_dump_to=/tmp/foo and attach the results.\n",
      "2024-08-05 19:32:42.020398: E external/local_xla/xla/service/slow_operation_alarm.cc:133] The operation took 3.944675139s\n",
      "Constant folding an instruction is taking > 2s:\n",
      "\n",
      "  %convolution.302 = f32[16,256,256,32]{3,2,1,0} convolution(f32[16,256,256,1]{3,2,1,0} %constant.301, f32[3,3,1,32]{3,2,1,0} %constant.300), window={size=3x3 pad=1_1x1_1}, dim_labels=b01f_01io->b01f, metadata={op_type=\"Conv2D\" op_name=\"functional_1/conv2d_1/convolution\" source_file=\"/home/mattwilk/.local/lib/python3.10/site-packages/tensorflow/python/framework/ops.py\" source_line=1177}\n",
      "\n",
      "This isn't necessarily a bug; constant-folding is inherently a trade-off between compilation time and speed at runtime. XLA has some guards that attempt to keep constant folding from taking too long, but fundamentally you'll always be able to come up with an input program that takes a long time.\n",
      "\n",
      "If you'd like to file a bug, run with envvar XLA_FLAGS=--xla_dump_to=/tmp/foo and attach the results.\n"
     ]
    },
    {
     "name": "stdout",
     "output_type": "stream",
     "text": [
      "\u001b[1m 2/63\u001b[0m \u001b[37m━━━━━━━━━━━━━━━━━━━━\u001b[0m \u001b[1m7:24\u001b[0m 7s/step - classification_output_accuracy: 0.0625 - localization_output_mae: 0.2225 - loss: 2.3695  "
     ]
    },
    {
     "name": "stderr",
     "output_type": "stream",
     "text": [
      "W0000 00:00:1722886365.032557 1174157 assert_op.cc:38] Ignoring Assert operator functional_1/cropping_and_resizing_layer_1/StatefulPartitionedCall/loop_body/crop_to_bounding_box/Assert/Assert\n",
      "W0000 00:00:1722886365.032613 1174157 assert_op.cc:38] Ignoring Assert operator functional_1/cropping_and_resizing_layer_1/StatefulPartitionedCall/loop_body/crop_to_bounding_box/Assert_1/Assert\n",
      "W0000 00:00:1722886365.032651 1174157 assert_op.cc:38] Ignoring Assert operator functional_1/cropping_and_resizing_layer_1/StatefulPartitionedCall/loop_body/crop_to_bounding_box/Assert_2/Assert\n",
      "W0000 00:00:1722886365.032666 1174157 assert_op.cc:38] Ignoring Assert operator functional_1/cropping_and_resizing_layer_1/StatefulPartitionedCall/loop_body/crop_to_bounding_box/Assert_3/Assert\n"
     ]
    },
    {
     "name": "stdout",
     "output_type": "stream",
     "text": [
      "\u001b[1m23/63\u001b[0m \u001b[32m━━━━━━━\u001b[0m\u001b[37m━━━━━━━━━━━━━\u001b[0m \u001b[1m3:58\u001b[0m 6s/step - classification_output_accuracy: 0.0614 - localization_output_mae: 0.1574 - loss: 2.3496"
     ]
    },
    {
     "name": "stderr",
     "output_type": "stream",
     "text": [
      "2024-08-05 19:34:53.250920: E external/local_xla/xla/service/slow_operation_alarm.cc:65] Constant folding an instruction is taking > 4s:\n",
      "\n",
      "  %convolution.302 = f32[16,256,256,32]{3,2,1,0} convolution(f32[16,256,256,1]{3,2,1,0} %constant.301, f32[3,3,1,32]{3,2,1,0} %constant.300), window={size=3x3 pad=1_1x1_1}, dim_labels=b01f_01io->b01f, metadata={op_type=\"Conv2D\" op_name=\"functional_1/conv2d_1/convolution\" source_file=\"/home/mattwilk/.local/lib/python3.10/site-packages/tensorflow/python/framework/ops.py\" source_line=1177}\n",
      "\n",
      "This isn't necessarily a bug; constant-folding is inherently a trade-off between compilation time and speed at runtime. XLA has some guards that attempt to keep constant folding from taking too long, but fundamentally you'll always be able to come up with an input program that takes a long time.\n",
      "\n",
      "If you'd like to file a bug, run with envvar XLA_FLAGS=--xla_dump_to=/tmp/foo and attach the results.\n",
      "2024-08-05 19:34:53.303803: E external/local_xla/xla/service/slow_operation_alarm.cc:133] The operation took 4.053004929s\n",
      "Constant folding an instruction is taking > 4s:\n",
      "\n",
      "  %convolution.302 = f32[16,256,256,32]{3,2,1,0} convolution(f32[16,256,256,1]{3,2,1,0} %constant.301, f32[3,3,1,32]{3,2,1,0} %constant.300), window={size=3x3 pad=1_1x1_1}, dim_labels=b01f_01io->b01f, metadata={op_type=\"Conv2D\" op_name=\"functional_1/conv2d_1/convolution\" source_file=\"/home/mattwilk/.local/lib/python3.10/site-packages/tensorflow/python/framework/ops.py\" source_line=1177}\n",
      "\n",
      "This isn't necessarily a bug; constant-folding is inherently a trade-off between compilation time and speed at runtime. XLA has some guards that attempt to keep constant folding from taking too long, but fundamentally you'll always be able to come up with an input program that takes a long time.\n",
      "\n",
      "If you'd like to file a bug, run with envvar XLA_FLAGS=--xla_dump_to=/tmp/foo and attach the results.\n"
     ]
    },
    {
     "name": "stdout",
     "output_type": "stream",
     "text": [
      "\u001b[1m63/63\u001b[0m \u001b[32m━━━━━━━━━━━━━━━━━━━━\u001b[0m\u001b[37m\u001b[0m \u001b[1m0s\u001b[0m 6s/step - classification_output_accuracy: 0.0762 - localization_output_mae: 0.1180 - loss: 2.3533WARNING:tensorflow:Using a while_loop for converting ResizeBilinear cause there is no registered converter for this op.\n",
      "\u001b[1m63/63\u001b[0m \u001b[32m━━━━━━━━━━━━━━━━━━━━\u001b[0m\u001b[37m\u001b[0m \u001b[1m484s\u001b[0m 8s/step - classification_output_accuracy: 0.0765 - localization_output_mae: 0.1173 - loss: 2.3535 - val_classification_output_accuracy: 0.1760 - val_localization_output_mae: 0.0319 - val_loss: 2.3426\n",
      "Epoch 2/10\n",
      "\u001b[1m63/63\u001b[0m \u001b[32m━━━━━━━━━━━━━━━━━━━━\u001b[0m\u001b[37m\u001b[0m \u001b[1m476s\u001b[0m 8s/step - classification_output_accuracy: 0.1002 - localization_output_mae: 0.0248 - loss: 2.3930 - val_classification_output_accuracy: 0.2040 - val_localization_output_mae: 0.0183 - val_loss: 2.2487\n",
      "Epoch 3/10\n",
      "\u001b[1m63/63\u001b[0m \u001b[32m━━━━━━━━━━━━━━━━━━━━\u001b[0m\u001b[37m\u001b[0m \u001b[1m498s\u001b[0m 8s/step - classification_output_accuracy: 0.2325 - localization_output_mae: 0.0147 - loss: 2.2036 - val_classification_output_accuracy: 0.2480 - val_localization_output_mae: 0.0157 - val_loss: 2.1670\n",
      "Epoch 4/10\n",
      "\u001b[1m 9/63\u001b[0m \u001b[32m━━\u001b[0m\u001b[37m━━━━━━━━━━━━━━━━━━\u001b[0m \u001b[1m5:23\u001b[0m 6s/step - classification_output_accuracy: 0.2005 - localization_output_mae: 0.0112 - loss: 2.1070"
     ]
    },
    {
     "name": "stderr",
     "output_type": "stream",
     "text": [
      "2024-08-05 19:57:44.305762: I external/local_xla/xla/stream_executor/cuda/cuda_driver.cc:1578] failed to allocate 128.00MiB (134217728 bytes) from device: CUDA_ERROR_OUT_OF_MEMORY: out of memory\n",
      "2024-08-05 19:57:44.305912: I tensorflow/core/framework/local_rendezvous.cc:404] Local rendezvous is aborting with status: INTERNAL: Failed to allocate 134217728 bytes for new constant\n",
      "\t [[{{node StatefulPartitionedCall}}]]\n"
     ]
    },
    {
     "ename": "InternalError",
     "evalue": "Graph execution error:\n\nDetected at node StatefulPartitionedCall defined at (most recent call last):\n  File \"/usr/lib/python3.10/runpy.py\", line 196, in _run_module_as_main\n\n  File \"/usr/lib/python3.10/runpy.py\", line 86, in _run_code\n\n  File \"/home/mattwilk/.local/lib/python3.10/site-packages/ipykernel_launcher.py\", line 18, in <module>\n\n  File \"/home/mattwilk/.local/lib/python3.10/site-packages/traitlets/config/application.py\", line 1075, in launch_instance\n\n  File \"/home/mattwilk/.local/lib/python3.10/site-packages/ipykernel/kernelapp.py\", line 739, in start\n\n  File \"/home/mattwilk/.local/lib/python3.10/site-packages/tornado/platform/asyncio.py\", line 205, in start\n\n  File \"/usr/lib/python3.10/asyncio/base_events.py\", line 603, in run_forever\n\n  File \"/usr/lib/python3.10/asyncio/base_events.py\", line 1909, in _run_once\n\n  File \"/usr/lib/python3.10/asyncio/events.py\", line 80, in _run\n\n  File \"/home/mattwilk/.local/lib/python3.10/site-packages/ipykernel/kernelbase.py\", line 545, in dispatch_queue\n\n  File \"/home/mattwilk/.local/lib/python3.10/site-packages/ipykernel/kernelbase.py\", line 534, in process_one\n\n  File \"/home/mattwilk/.local/lib/python3.10/site-packages/ipykernel/kernelbase.py\", line 437, in dispatch_shell\n\n  File \"/home/mattwilk/.local/lib/python3.10/site-packages/ipykernel/ipkernel.py\", line 362, in execute_request\n\n  File \"/home/mattwilk/.local/lib/python3.10/site-packages/ipykernel/kernelbase.py\", line 778, in execute_request\n\n  File \"/home/mattwilk/.local/lib/python3.10/site-packages/ipykernel/ipkernel.py\", line 449, in do_execute\n\n  File \"/home/mattwilk/.local/lib/python3.10/site-packages/ipykernel/zmqshell.py\", line 549, in run_cell\n\n  File \"/home/mattwilk/.local/lib/python3.10/site-packages/IPython/core/interactiveshell.py\", line 3075, in run_cell\n\n  File \"/home/mattwilk/.local/lib/python3.10/site-packages/IPython/core/interactiveshell.py\", line 3130, in _run_cell\n\n  File \"/home/mattwilk/.local/lib/python3.10/site-packages/IPython/core/async_helpers.py\", line 128, in _pseudo_sync_runner\n\n  File \"/home/mattwilk/.local/lib/python3.10/site-packages/IPython/core/interactiveshell.py\", line 3334, in run_cell_async\n\n  File \"/home/mattwilk/.local/lib/python3.10/site-packages/IPython/core/interactiveshell.py\", line 3517, in run_ast_nodes\n\n  File \"/home/mattwilk/.local/lib/python3.10/site-packages/IPython/core/interactiveshell.py\", line 3577, in run_code\n\n  File \"/tmp/ipykernel_1173525/1636613771.py\", line 2, in <module>\n\n  File \"/home/mattwilk/.local/lib/python3.10/site-packages/keras/src/utils/traceback_utils.py\", line 117, in error_handler\n\n  File \"/home/mattwilk/.local/lib/python3.10/site-packages/keras/src/backend/tensorflow/trainer.py\", line 318, in fit\n\n  File \"/home/mattwilk/.local/lib/python3.10/site-packages/keras/src/backend/tensorflow/trainer.py\", line 121, in one_step_on_iterator\n\nFailed to allocate 134217728 bytes for new constant\n\t [[{{node StatefulPartitionedCall}}]] [Op:__inference_one_step_on_iterator_4070]",
     "output_type": "error",
     "traceback": [
      "\u001b[0;31m---------------------------------------------------------------------------\u001b[0m",
      "\u001b[0;31mInternalError\u001b[0m                             Traceback (most recent call last)",
      "Cell \u001b[0;32mIn[13], line 2\u001b[0m\n\u001b[1;32m      1\u001b[0m \u001b[38;5;28;01mwith\u001b[39;00m tf\u001b[38;5;241m.\u001b[39mdevice(\u001b[38;5;124m'\u001b[39m\u001b[38;5;124m/device:GPU:0\u001b[39m\u001b[38;5;124m'\u001b[39m):\n\u001b[0;32m----> 2\u001b[0m     history \u001b[38;5;241m=\u001b[39m \u001b[43mmodel\u001b[49m\u001b[38;5;241;43m.\u001b[39;49m\u001b[43mfit\u001b[49m\u001b[43m(\u001b[49m\n\u001b[1;32m      3\u001b[0m \u001b[43m        \u001b[49m\u001b[43mtrain_images\u001b[49m\u001b[43m,\u001b[49m\u001b[43m \u001b[49m\n\u001b[1;32m      4\u001b[0m \u001b[43m        \u001b[49m\u001b[43m{\u001b[49m\n\u001b[1;32m      5\u001b[0m \u001b[43m            \u001b[49m\u001b[38;5;124;43m'\u001b[39;49m\u001b[38;5;124;43mlocalization_output\u001b[39;49m\u001b[38;5;124;43m'\u001b[39;49m\u001b[43m:\u001b[49m\u001b[43m \u001b[49m\u001b[43mtrain_bboxes\u001b[49m\u001b[43m,\u001b[49m\u001b[43m \u001b[49m\n\u001b[1;32m      6\u001b[0m \u001b[43m            \u001b[49m\u001b[38;5;124;43m'\u001b[39;49m\u001b[38;5;124;43mclassification_output\u001b[39;49m\u001b[38;5;124;43m'\u001b[39;49m\u001b[43m:\u001b[49m\u001b[43m \u001b[49m\u001b[43mtrain_labels\u001b[49m\n\u001b[1;32m      7\u001b[0m \u001b[43m        \u001b[49m\u001b[43m}\u001b[49m\u001b[43m,\u001b[49m\n\u001b[1;32m      8\u001b[0m \u001b[43m        \u001b[49m\u001b[43mvalidation_data\u001b[49m\u001b[38;5;241;43m=\u001b[39;49m\u001b[43m(\u001b[49m\n\u001b[1;32m      9\u001b[0m \u001b[43m            \u001b[49m\u001b[43mtest_images\u001b[49m\u001b[43m,\u001b[49m\u001b[43m \u001b[49m\n\u001b[1;32m     10\u001b[0m \u001b[43m            \u001b[49m\u001b[43m{\u001b[49m\n\u001b[1;32m     11\u001b[0m \u001b[43m                \u001b[49m\u001b[38;5;124;43m'\u001b[39;49m\u001b[38;5;124;43mlocalization_output\u001b[39;49m\u001b[38;5;124;43m'\u001b[39;49m\u001b[43m:\u001b[49m\u001b[43m \u001b[49m\u001b[43mtest_bboxes\u001b[49m\u001b[43m,\u001b[49m\u001b[43m \u001b[49m\n\u001b[1;32m     12\u001b[0m \u001b[43m                \u001b[49m\u001b[38;5;124;43m'\u001b[39;49m\u001b[38;5;124;43mclassification_output\u001b[39;49m\u001b[38;5;124;43m'\u001b[39;49m\u001b[43m:\u001b[49m\u001b[43m \u001b[49m\u001b[43mtest_labels\u001b[49m\n\u001b[1;32m     13\u001b[0m \u001b[43m            \u001b[49m\u001b[43m}\u001b[49m\n\u001b[1;32m     14\u001b[0m \u001b[43m        \u001b[49m\u001b[43m)\u001b[49m\u001b[43m,\u001b[49m\n\u001b[1;32m     15\u001b[0m \u001b[43m        \u001b[49m\u001b[43mepochs\u001b[49m\u001b[38;5;241;43m=\u001b[39;49m\u001b[38;5;241;43m10\u001b[39;49m\u001b[43m,\u001b[49m\n\u001b[1;32m     16\u001b[0m \u001b[43m        \u001b[49m\u001b[43mbatch_size\u001b[49m\u001b[38;5;241;43m=\u001b[39;49m\u001b[38;5;241;43m16\u001b[39;49m\n\u001b[1;32m     17\u001b[0m \u001b[43m    \u001b[49m\u001b[43m)\u001b[49m\n",
      "File \u001b[0;32m~/.local/lib/python3.10/site-packages/keras/src/utils/traceback_utils.py:122\u001b[0m, in \u001b[0;36mfilter_traceback.<locals>.error_handler\u001b[0;34m(*args, **kwargs)\u001b[0m\n\u001b[1;32m    119\u001b[0m     filtered_tb \u001b[38;5;241m=\u001b[39m _process_traceback_frames(e\u001b[38;5;241m.\u001b[39m__traceback__)\n\u001b[1;32m    120\u001b[0m     \u001b[38;5;66;03m# To get the full stack trace, call:\u001b[39;00m\n\u001b[1;32m    121\u001b[0m     \u001b[38;5;66;03m# `keras.config.disable_traceback_filtering()`\u001b[39;00m\n\u001b[0;32m--> 122\u001b[0m     \u001b[38;5;28;01mraise\u001b[39;00m e\u001b[38;5;241m.\u001b[39mwith_traceback(filtered_tb) \u001b[38;5;28;01mfrom\u001b[39;00m \u001b[38;5;28;01mNone\u001b[39;00m\n\u001b[1;32m    123\u001b[0m \u001b[38;5;28;01mfinally\u001b[39;00m:\n\u001b[1;32m    124\u001b[0m     \u001b[38;5;28;01mdel\u001b[39;00m filtered_tb\n",
      "File \u001b[0;32m~/.local/lib/python3.10/site-packages/tensorflow/python/eager/execute.py:53\u001b[0m, in \u001b[0;36mquick_execute\u001b[0;34m(op_name, num_outputs, inputs, attrs, ctx, name)\u001b[0m\n\u001b[1;32m     51\u001b[0m \u001b[38;5;28;01mtry\u001b[39;00m:\n\u001b[1;32m     52\u001b[0m   ctx\u001b[38;5;241m.\u001b[39mensure_initialized()\n\u001b[0;32m---> 53\u001b[0m   tensors \u001b[38;5;241m=\u001b[39m pywrap_tfe\u001b[38;5;241m.\u001b[39mTFE_Py_Execute(ctx\u001b[38;5;241m.\u001b[39m_handle, device_name, op_name,\n\u001b[1;32m     54\u001b[0m                                       inputs, attrs, num_outputs)\n\u001b[1;32m     55\u001b[0m \u001b[38;5;28;01mexcept\u001b[39;00m core\u001b[38;5;241m.\u001b[39m_NotOkStatusException \u001b[38;5;28;01mas\u001b[39;00m e:\n\u001b[1;32m     56\u001b[0m   \u001b[38;5;28;01mif\u001b[39;00m name \u001b[38;5;129;01mis\u001b[39;00m \u001b[38;5;129;01mnot\u001b[39;00m \u001b[38;5;28;01mNone\u001b[39;00m:\n",
      "\u001b[0;31mInternalError\u001b[0m: Graph execution error:\n\nDetected at node StatefulPartitionedCall defined at (most recent call last):\n  File \"/usr/lib/python3.10/runpy.py\", line 196, in _run_module_as_main\n\n  File \"/usr/lib/python3.10/runpy.py\", line 86, in _run_code\n\n  File \"/home/mattwilk/.local/lib/python3.10/site-packages/ipykernel_launcher.py\", line 18, in <module>\n\n  File \"/home/mattwilk/.local/lib/python3.10/site-packages/traitlets/config/application.py\", line 1075, in launch_instance\n\n  File \"/home/mattwilk/.local/lib/python3.10/site-packages/ipykernel/kernelapp.py\", line 739, in start\n\n  File \"/home/mattwilk/.local/lib/python3.10/site-packages/tornado/platform/asyncio.py\", line 205, in start\n\n  File \"/usr/lib/python3.10/asyncio/base_events.py\", line 603, in run_forever\n\n  File \"/usr/lib/python3.10/asyncio/base_events.py\", line 1909, in _run_once\n\n  File \"/usr/lib/python3.10/asyncio/events.py\", line 80, in _run\n\n  File \"/home/mattwilk/.local/lib/python3.10/site-packages/ipykernel/kernelbase.py\", line 545, in dispatch_queue\n\n  File \"/home/mattwilk/.local/lib/python3.10/site-packages/ipykernel/kernelbase.py\", line 534, in process_one\n\n  File \"/home/mattwilk/.local/lib/python3.10/site-packages/ipykernel/kernelbase.py\", line 437, in dispatch_shell\n\n  File \"/home/mattwilk/.local/lib/python3.10/site-packages/ipykernel/ipkernel.py\", line 362, in execute_request\n\n  File \"/home/mattwilk/.local/lib/python3.10/site-packages/ipykernel/kernelbase.py\", line 778, in execute_request\n\n  File \"/home/mattwilk/.local/lib/python3.10/site-packages/ipykernel/ipkernel.py\", line 449, in do_execute\n\n  File \"/home/mattwilk/.local/lib/python3.10/site-packages/ipykernel/zmqshell.py\", line 549, in run_cell\n\n  File \"/home/mattwilk/.local/lib/python3.10/site-packages/IPython/core/interactiveshell.py\", line 3075, in run_cell\n\n  File \"/home/mattwilk/.local/lib/python3.10/site-packages/IPython/core/interactiveshell.py\", line 3130, in _run_cell\n\n  File \"/home/mattwilk/.local/lib/python3.10/site-packages/IPython/core/async_helpers.py\", line 128, in _pseudo_sync_runner\n\n  File \"/home/mattwilk/.local/lib/python3.10/site-packages/IPython/core/interactiveshell.py\", line 3334, in run_cell_async\n\n  File \"/home/mattwilk/.local/lib/python3.10/site-packages/IPython/core/interactiveshell.py\", line 3517, in run_ast_nodes\n\n  File \"/home/mattwilk/.local/lib/python3.10/site-packages/IPython/core/interactiveshell.py\", line 3577, in run_code\n\n  File \"/tmp/ipykernel_1173525/1636613771.py\", line 2, in <module>\n\n  File \"/home/mattwilk/.local/lib/python3.10/site-packages/keras/src/utils/traceback_utils.py\", line 117, in error_handler\n\n  File \"/home/mattwilk/.local/lib/python3.10/site-packages/keras/src/backend/tensorflow/trainer.py\", line 318, in fit\n\n  File \"/home/mattwilk/.local/lib/python3.10/site-packages/keras/src/backend/tensorflow/trainer.py\", line 121, in one_step_on_iterator\n\nFailed to allocate 134217728 bytes for new constant\n\t [[{{node StatefulPartitionedCall}}]] [Op:__inference_one_step_on_iterator_4070]"
     ]
    }
   ],
   "source": [
    "with tf.device('/device:GPU:0'):\n",
    "    history = model.fit(\n",
    "        train_images, \n",
    "        {\n",
    "            'localization_output': train_bboxes, \n",
    "            'classification_output': train_labels\n",
    "        },\n",
    "        validation_data=(\n",
    "            test_images, \n",
    "            {\n",
    "                'localization_output': test_bboxes, \n",
    "                'classification_output': test_labels\n",
    "            }\n",
    "        ),\n",
    "        epochs=10,\n",
    "        batch_size=16\n",
    "    )\n"
   ]
  },
  {
   "cell_type": "code",
   "execution_count": 97,
   "metadata": {},
   "outputs": [
    {
     "name": "stdout",
     "output_type": "stream",
     "text": [
      "(250, 256, 256, 1)\n"
     ]
    },
    {
     "name": "stderr",
     "output_type": "stream",
     "text": [
      "2024-08-02 19:48:07.516445: I external/local_xla/xla/stream_executor/cuda/cuda_driver.cc:1578] failed to allocate 64.00MiB (67108864 bytes) from device: CUDA_ERROR_OUT_OF_MEMORY: out of memory\n"
     ]
    },
    {
     "ename": "InternalError",
     "evalue": "Graph execution error:\n\nDetected at node StatefulPartitionedCall defined at (most recent call last):\n  File \"/usr/lib/python3.10/runpy.py\", line 196, in _run_module_as_main\n\n  File \"/usr/lib/python3.10/runpy.py\", line 86, in _run_code\n\n  File \"/home/mattwilk/.local/lib/python3.10/site-packages/ipykernel_launcher.py\", line 18, in <module>\n\n  File \"/home/mattwilk/.local/lib/python3.10/site-packages/traitlets/config/application.py\", line 1075, in launch_instance\n\n  File \"/home/mattwilk/.local/lib/python3.10/site-packages/ipykernel/kernelapp.py\", line 739, in start\n\n  File \"/home/mattwilk/.local/lib/python3.10/site-packages/tornado/platform/asyncio.py\", line 205, in start\n\n  File \"/usr/lib/python3.10/asyncio/base_events.py\", line 603, in run_forever\n\n  File \"/usr/lib/python3.10/asyncio/base_events.py\", line 1909, in _run_once\n\n  File \"/usr/lib/python3.10/asyncio/events.py\", line 80, in _run\n\n  File \"/home/mattwilk/.local/lib/python3.10/site-packages/ipykernel/kernelbase.py\", line 545, in dispatch_queue\n\n  File \"/home/mattwilk/.local/lib/python3.10/site-packages/ipykernel/kernelbase.py\", line 534, in process_one\n\n  File \"/home/mattwilk/.local/lib/python3.10/site-packages/ipykernel/kernelbase.py\", line 437, in dispatch_shell\n\n  File \"/home/mattwilk/.local/lib/python3.10/site-packages/ipykernel/ipkernel.py\", line 362, in execute_request\n\n  File \"/home/mattwilk/.local/lib/python3.10/site-packages/ipykernel/kernelbase.py\", line 778, in execute_request\n\n  File \"/home/mattwilk/.local/lib/python3.10/site-packages/ipykernel/ipkernel.py\", line 449, in do_execute\n\n  File \"/home/mattwilk/.local/lib/python3.10/site-packages/ipykernel/zmqshell.py\", line 549, in run_cell\n\n  File \"/home/mattwilk/.local/lib/python3.10/site-packages/IPython/core/interactiveshell.py\", line 3075, in run_cell\n\n  File \"/home/mattwilk/.local/lib/python3.10/site-packages/IPython/core/interactiveshell.py\", line 3130, in _run_cell\n\n  File \"/home/mattwilk/.local/lib/python3.10/site-packages/IPython/core/async_helpers.py\", line 128, in _pseudo_sync_runner\n\n  File \"/home/mattwilk/.local/lib/python3.10/site-packages/IPython/core/interactiveshell.py\", line 3334, in run_cell_async\n\n  File \"/home/mattwilk/.local/lib/python3.10/site-packages/IPython/core/interactiveshell.py\", line 3517, in run_ast_nodes\n\n  File \"/home/mattwilk/.local/lib/python3.10/site-packages/IPython/core/interactiveshell.py\", line 3577, in run_code\n\n  File \"/tmp/ipykernel_2262476/2676898038.py\", line 2, in <module>\n\n  File \"/home/mattwilk/.local/lib/python3.10/site-packages/keras/src/utils/traceback_utils.py\", line 117, in error_handler\n\n  File \"/home/mattwilk/.local/lib/python3.10/site-packages/keras/src/backend/tensorflow/trainer.py\", line 508, in predict\n\n  File \"/home/mattwilk/.local/lib/python3.10/site-packages/keras/src/backend/tensorflow/trainer.py\", line 208, in one_step_on_data_distributed\n\nFailed to allocate 67108864 bytes for new constant\n\t [[{{node StatefulPartitionedCall}}]] [Op:__inference_one_step_on_data_distributed_452199]",
     "output_type": "error",
     "traceback": [
      "\u001b[0;31m---------------------------------------------------------------------------\u001b[0m",
      "\u001b[0;31mInternalError\u001b[0m                             Traceback (most recent call last)",
      "Cell \u001b[0;32mIn[97], line 2\u001b[0m\n\u001b[1;32m      1\u001b[0m \u001b[38;5;28mprint\u001b[39m(test_images\u001b[38;5;241m.\u001b[39mshape)\n\u001b[0;32m----> 2\u001b[0m y_pred \u001b[38;5;241m=\u001b[39m \u001b[43mmodel\u001b[49m\u001b[38;5;241;43m.\u001b[39;49m\u001b[43mpredict\u001b[49m\u001b[43m(\u001b[49m\u001b[43mtest_images\u001b[49m\u001b[43m)\u001b[49m\n",
      "File \u001b[0;32m~/.local/lib/python3.10/site-packages/keras/src/utils/traceback_utils.py:122\u001b[0m, in \u001b[0;36mfilter_traceback.<locals>.error_handler\u001b[0;34m(*args, **kwargs)\u001b[0m\n\u001b[1;32m    119\u001b[0m     filtered_tb \u001b[38;5;241m=\u001b[39m _process_traceback_frames(e\u001b[38;5;241m.\u001b[39m__traceback__)\n\u001b[1;32m    120\u001b[0m     \u001b[38;5;66;03m# To get the full stack trace, call:\u001b[39;00m\n\u001b[1;32m    121\u001b[0m     \u001b[38;5;66;03m# `keras.config.disable_traceback_filtering()`\u001b[39;00m\n\u001b[0;32m--> 122\u001b[0m     \u001b[38;5;28;01mraise\u001b[39;00m e\u001b[38;5;241m.\u001b[39mwith_traceback(filtered_tb) \u001b[38;5;28;01mfrom\u001b[39;00m \u001b[38;5;28;01mNone\u001b[39;00m\n\u001b[1;32m    123\u001b[0m \u001b[38;5;28;01mfinally\u001b[39;00m:\n\u001b[1;32m    124\u001b[0m     \u001b[38;5;28;01mdel\u001b[39;00m filtered_tb\n",
      "File \u001b[0;32m~/.local/lib/python3.10/site-packages/tensorflow/python/eager/execute.py:53\u001b[0m, in \u001b[0;36mquick_execute\u001b[0;34m(op_name, num_outputs, inputs, attrs, ctx, name)\u001b[0m\n\u001b[1;32m     51\u001b[0m \u001b[38;5;28;01mtry\u001b[39;00m:\n\u001b[1;32m     52\u001b[0m   ctx\u001b[38;5;241m.\u001b[39mensure_initialized()\n\u001b[0;32m---> 53\u001b[0m   tensors \u001b[38;5;241m=\u001b[39m pywrap_tfe\u001b[38;5;241m.\u001b[39mTFE_Py_Execute(ctx\u001b[38;5;241m.\u001b[39m_handle, device_name, op_name,\n\u001b[1;32m     54\u001b[0m                                       inputs, attrs, num_outputs)\n\u001b[1;32m     55\u001b[0m \u001b[38;5;28;01mexcept\u001b[39;00m core\u001b[38;5;241m.\u001b[39m_NotOkStatusException \u001b[38;5;28;01mas\u001b[39;00m e:\n\u001b[1;32m     56\u001b[0m   \u001b[38;5;28;01mif\u001b[39;00m name \u001b[38;5;129;01mis\u001b[39;00m \u001b[38;5;129;01mnot\u001b[39;00m \u001b[38;5;28;01mNone\u001b[39;00m:\n",
      "\u001b[0;31mInternalError\u001b[0m: Graph execution error:\n\nDetected at node StatefulPartitionedCall defined at (most recent call last):\n  File \"/usr/lib/python3.10/runpy.py\", line 196, in _run_module_as_main\n\n  File \"/usr/lib/python3.10/runpy.py\", line 86, in _run_code\n\n  File \"/home/mattwilk/.local/lib/python3.10/site-packages/ipykernel_launcher.py\", line 18, in <module>\n\n  File \"/home/mattwilk/.local/lib/python3.10/site-packages/traitlets/config/application.py\", line 1075, in launch_instance\n\n  File \"/home/mattwilk/.local/lib/python3.10/site-packages/ipykernel/kernelapp.py\", line 739, in start\n\n  File \"/home/mattwilk/.local/lib/python3.10/site-packages/tornado/platform/asyncio.py\", line 205, in start\n\n  File \"/usr/lib/python3.10/asyncio/base_events.py\", line 603, in run_forever\n\n  File \"/usr/lib/python3.10/asyncio/base_events.py\", line 1909, in _run_once\n\n  File \"/usr/lib/python3.10/asyncio/events.py\", line 80, in _run\n\n  File \"/home/mattwilk/.local/lib/python3.10/site-packages/ipykernel/kernelbase.py\", line 545, in dispatch_queue\n\n  File \"/home/mattwilk/.local/lib/python3.10/site-packages/ipykernel/kernelbase.py\", line 534, in process_one\n\n  File \"/home/mattwilk/.local/lib/python3.10/site-packages/ipykernel/kernelbase.py\", line 437, in dispatch_shell\n\n  File \"/home/mattwilk/.local/lib/python3.10/site-packages/ipykernel/ipkernel.py\", line 362, in execute_request\n\n  File \"/home/mattwilk/.local/lib/python3.10/site-packages/ipykernel/kernelbase.py\", line 778, in execute_request\n\n  File \"/home/mattwilk/.local/lib/python3.10/site-packages/ipykernel/ipkernel.py\", line 449, in do_execute\n\n  File \"/home/mattwilk/.local/lib/python3.10/site-packages/ipykernel/zmqshell.py\", line 549, in run_cell\n\n  File \"/home/mattwilk/.local/lib/python3.10/site-packages/IPython/core/interactiveshell.py\", line 3075, in run_cell\n\n  File \"/home/mattwilk/.local/lib/python3.10/site-packages/IPython/core/interactiveshell.py\", line 3130, in _run_cell\n\n  File \"/home/mattwilk/.local/lib/python3.10/site-packages/IPython/core/async_helpers.py\", line 128, in _pseudo_sync_runner\n\n  File \"/home/mattwilk/.local/lib/python3.10/site-packages/IPython/core/interactiveshell.py\", line 3334, in run_cell_async\n\n  File \"/home/mattwilk/.local/lib/python3.10/site-packages/IPython/core/interactiveshell.py\", line 3517, in run_ast_nodes\n\n  File \"/home/mattwilk/.local/lib/python3.10/site-packages/IPython/core/interactiveshell.py\", line 3577, in run_code\n\n  File \"/tmp/ipykernel_2262476/2676898038.py\", line 2, in <module>\n\n  File \"/home/mattwilk/.local/lib/python3.10/site-packages/keras/src/utils/traceback_utils.py\", line 117, in error_handler\n\n  File \"/home/mattwilk/.local/lib/python3.10/site-packages/keras/src/backend/tensorflow/trainer.py\", line 508, in predict\n\n  File \"/home/mattwilk/.local/lib/python3.10/site-packages/keras/src/backend/tensorflow/trainer.py\", line 208, in one_step_on_data_distributed\n\nFailed to allocate 67108864 bytes for new constant\n\t [[{{node StatefulPartitionedCall}}]] [Op:__inference_one_step_on_data_distributed_452199]"
     ]
    }
   ],
   "source": [
    "print(test_images.shape)\n",
    "y_pred = model.predict(test_images)\n"
   ]
  },
  {
   "cell_type": "code",
   "execution_count": 54,
   "metadata": {},
   "outputs": [
    {
     "name": "stdout",
     "output_type": "stream",
     "text": [
      "[0.015625  0.2421875 0.125     0.3515625]\n",
      "[0.02744406 0.26661    0.12616605 0.38507006]\n",
      "7\n",
      "[0.08879827 0.10580781 0.07657495 0.1211955  0.14983183 0.11164243\n",
      " 0.07547764 0.12235857 0.09281766 0.05549541]\n"
     ]
    },
    {
     "data": {
      "image/png": "[encoded data removed]",
      "text/plain": [
       "<Figure size 640x480 with 1 Axes>"
      ]
     },
     "metadata": {},
     "output_type": "display_data"
    }
   ],
   "source": [
    "plt.imshow(test_images[0])\n",
    "print(test_bboxes[0])\n",
    "print(y_pred[0][0])\n",
    "print(test_labels[0])\n",
    "print(y_pred[1][0])"
   ]
  },
  {
   "cell_type": "code",
   "execution_count": 11,
   "metadata": {},
   "outputs": [
    {
     "data": {
      "image/png": "[encoded data removed]",
      "text/plain": [
       "<Figure size 1000x1000 with 10 Axes>"
      ]
     },
     "metadata": {},
     "output_type": "display_data"
    }
   ],
   "source": [
    "def test_crop_layer():\n",
    "    # Create dummy data\n",
    "    batch_size = 1\n",
    "    img_height, img_width = 256, 256\n",
    "    channels = 1\n",
    "    target_size = (28, 28)\n",
    "    \n",
    "    dummy_images = test_images\n",
    "    dummy_coords = test_bboxes\n",
    "    \n",
    "    crop_layer = CroppingAndResizingLayer(target_size=target_size)\n",
    "    \n",
    "    cropped_images = crop_layer([dummy_images, dummy_coords])\n",
    "    \n",
    "    # Plot the original and cropped images for the first 5 examples\n",
    "    plt.figure(figsize=(10, 10))\n",
    "    for i in range(5):\n",
    "        original_image = test_images[i]\n",
    "        cropped_image = cropped_images[i, :, :, 0].numpy()\n",
    "        \n",
    "        plt.subplot(5, 2, 2 * i + 1)\n",
    "        plt.title(f\"Original Image {i+1}\")\n",
    "        plt.imshow(original_image, cmap='gray')\n",
    "        plt.axis('off')\n",
    "        \n",
    "        plt.subplot(5, 2, 2 * i + 2)\n",
    "        plt.title(f\"Cropped Image {i+1}\")\n",
    "        plt.imshow(cropped_image, cmap='gray')\n",
    "        plt.axis('off')\n",
    "\n",
    "    plt.tight_layout()\n",
    "    plt.show()\n",
    "\n",
    "# Run the test function\n",
    "test_crop_layer()\n",
    "\n",
    "#4-32 62-90"
   ]
  }
 ],
 "metadata": {
  "kernelspec": {
   "display_name": "Python 3",
   "language": "python",
   "name": "python3"
  },
  "language_info": {
   "codemirror_mode": {
    "name": "ipython",
    "version": 3
   },
   "file_extension": ".py",
   "mimetype": "text/x-python",
   "name": "python",
   "nbconvert_exporter": "python",
   "pygments_lexer": "ipython3",
   "version": "3.10.12"
  }
 },
 "nbformat": 4,
 "nbformat_minor": 2
}
